{
 "cells": [
  {
   "cell_type": "code",
   "execution_count": 1,
   "id": "46af7009",
   "metadata": {
    "scrolled": false
   },
   "outputs": [
    {
     "name": "stderr",
     "output_type": "stream",
     "text": [
      "/usr/local/lib/python3.8/dist-packages/pandas/compat/_optional.py:161: UserWarning: Pandas requires version '2.7.1' or newer of 'numexpr' (version '2.7.0' currently installed).\n",
      "  warnings.warn(msg, UserWarning)\n"
     ]
    }
   ],
   "source": [
    "import pandas as pd\n",
    "import numpy as np\n",
    "\n",
    "import pickle\n",
    "import gzip\n",
    "\n",
    "with gzip.open('isang_data_scale.pickle','rb') as f:\n",
    "    data_lst = pickle.load(f)\n",
    "    \n",
    "with gzip.open('isang_value_scale.pickle','rb') as f:\n",
    "    value = pickle.load(f)"
   ]
  },
  {
   "cell_type": "code",
   "execution_count": 2,
   "id": "d2c0a828",
   "metadata": {},
   "outputs": [
    {
     "data": {
      "text/html": [
       "<div>\n",
       "<style scoped>\n",
       "    .dataframe tbody tr th:only-of-type {\n",
       "        vertical-align: middle;\n",
       "    }\n",
       "\n",
       "    .dataframe tbody tr th {\n",
       "        vertical-align: top;\n",
       "    }\n",
       "\n",
       "    .dataframe thead th {\n",
       "        text-align: right;\n",
       "    }\n",
       "</style>\n",
       "<table border=\"1\" class=\"dataframe\">\n",
       "  <thead>\n",
       "    <tr style=\"text-align: right;\">\n",
       "      <th></th>\n",
       "      <th>0</th>\n",
       "      <th>1</th>\n",
       "      <th>2</th>\n",
       "      <th>3</th>\n",
       "      <th>4</th>\n",
       "      <th>5</th>\n",
       "      <th>6</th>\n",
       "      <th>7</th>\n",
       "      <th>8</th>\n",
       "      <th>9</th>\n",
       "      <th>...</th>\n",
       "      <th>71</th>\n",
       "      <th>72</th>\n",
       "      <th>73</th>\n",
       "      <th>74</th>\n",
       "      <th>75</th>\n",
       "      <th>76</th>\n",
       "      <th>77</th>\n",
       "      <th>78</th>\n",
       "      <th>79</th>\n",
       "      <th>80</th>\n",
       "    </tr>\n",
       "  </thead>\n",
       "  <tbody>\n",
       "    <tr>\n",
       "      <th>0</th>\n",
       "      <td>-1.094610</td>\n",
       "      <td>0.510972</td>\n",
       "      <td>-0.479930</td>\n",
       "      <td>-1.494328</td>\n",
       "      <td>-0.868568</td>\n",
       "      <td>-1.474788</td>\n",
       "      <td>-0.875780</td>\n",
       "      <td>-0.838624</td>\n",
       "      <td>0.0</td>\n",
       "      <td>0.0</td>\n",
       "      <td>...</td>\n",
       "      <td>3.184595</td>\n",
       "      <td>0.890969</td>\n",
       "      <td>-0.975900</td>\n",
       "      <td>-0.295822</td>\n",
       "      <td>-0.951457</td>\n",
       "      <td>-1.590157</td>\n",
       "      <td>0.800508</td>\n",
       "      <td>0.0</td>\n",
       "      <td>-2.499666</td>\n",
       "      <td>-1.268536</td>\n",
       "    </tr>\n",
       "    <tr>\n",
       "      <th>1</th>\n",
       "      <td>-1.094610</td>\n",
       "      <td>0.793438</td>\n",
       "      <td>-0.479930</td>\n",
       "      <td>-1.494328</td>\n",
       "      <td>-0.868568</td>\n",
       "      <td>-1.474788</td>\n",
       "      <td>-0.875780</td>\n",
       "      <td>-0.838624</td>\n",
       "      <td>0.0</td>\n",
       "      <td>0.0</td>\n",
       "      <td>...</td>\n",
       "      <td>3.184595</td>\n",
       "      <td>0.890969</td>\n",
       "      <td>-0.975900</td>\n",
       "      <td>-0.687277</td>\n",
       "      <td>-0.951457</td>\n",
       "      <td>-1.590157</td>\n",
       "      <td>0.800508</td>\n",
       "      <td>0.0</td>\n",
       "      <td>-2.499666</td>\n",
       "      <td>-1.268536</td>\n",
       "    </tr>\n",
       "    <tr>\n",
       "      <th>2</th>\n",
       "      <td>0.741790</td>\n",
       "      <td>-0.156674</td>\n",
       "      <td>1.381446</td>\n",
       "      <td>0.669197</td>\n",
       "      <td>1.283904</td>\n",
       "      <td>0.146139</td>\n",
       "      <td>-0.653416</td>\n",
       "      <td>0.219378</td>\n",
       "      <td>0.0</td>\n",
       "      <td>0.0</td>\n",
       "      <td>...</td>\n",
       "      <td>3.184595</td>\n",
       "      <td>0.890969</td>\n",
       "      <td>-0.975900</td>\n",
       "      <td>-0.850221</td>\n",
       "      <td>-0.951457</td>\n",
       "      <td>-0.821849</td>\n",
       "      <td>0.800508</td>\n",
       "      <td>0.0</td>\n",
       "      <td>-2.499666</td>\n",
       "      <td>-1.268536</td>\n",
       "    </tr>\n",
       "    <tr>\n",
       "      <th>3</th>\n",
       "      <td>0.463548</td>\n",
       "      <td>0.562330</td>\n",
       "      <td>1.381446</td>\n",
       "      <td>0.669197</td>\n",
       "      <td>1.283904</td>\n",
       "      <td>0.146139</td>\n",
       "      <td>-0.653416</td>\n",
       "      <td>0.219378</td>\n",
       "      <td>0.0</td>\n",
       "      <td>0.0</td>\n",
       "      <td>...</td>\n",
       "      <td>3.184595</td>\n",
       "      <td>0.890969</td>\n",
       "      <td>1.024695</td>\n",
       "      <td>0.014926</td>\n",
       "      <td>1.295881</td>\n",
       "      <td>-0.821849</td>\n",
       "      <td>0.800508</td>\n",
       "      <td>0.0</td>\n",
       "      <td>-2.499666</td>\n",
       "      <td>-1.268536</td>\n",
       "    </tr>\n",
       "    <tr>\n",
       "      <th>4</th>\n",
       "      <td>-0.872016</td>\n",
       "      <td>1.152940</td>\n",
       "      <td>1.381446</td>\n",
       "      <td>0.669197</td>\n",
       "      <td>1.283904</td>\n",
       "      <td>0.146139</td>\n",
       "      <td>-0.653416</td>\n",
       "      <td>0.219378</td>\n",
       "      <td>0.0</td>\n",
       "      <td>0.0</td>\n",
       "      <td>...</td>\n",
       "      <td>3.184595</td>\n",
       "      <td>0.890969</td>\n",
       "      <td>1.024695</td>\n",
       "      <td>0.027875</td>\n",
       "      <td>0.060131</td>\n",
       "      <td>-0.821849</td>\n",
       "      <td>0.800508</td>\n",
       "      <td>0.0</td>\n",
       "      <td>-2.499666</td>\n",
       "      <td>-1.268536</td>\n",
       "    </tr>\n",
       "    <tr>\n",
       "      <th>...</th>\n",
       "      <td>...</td>\n",
       "      <td>...</td>\n",
       "      <td>...</td>\n",
       "      <td>...</td>\n",
       "      <td>...</td>\n",
       "      <td>...</td>\n",
       "      <td>...</td>\n",
       "      <td>...</td>\n",
       "      <td>...</td>\n",
       "      <td>...</td>\n",
       "      <td>...</td>\n",
       "      <td>...</td>\n",
       "      <td>...</td>\n",
       "      <td>...</td>\n",
       "      <td>...</td>\n",
       "      <td>...</td>\n",
       "      <td>...</td>\n",
       "      <td>...</td>\n",
       "      <td>...</td>\n",
       "      <td>...</td>\n",
       "      <td>...</td>\n",
       "    </tr>\n",
       "    <tr>\n",
       "      <th>6487709</th>\n",
       "      <td>-0.836727</td>\n",
       "      <td>1.621280</td>\n",
       "      <td>1.487938</td>\n",
       "      <td>-1.494328</td>\n",
       "      <td>-1.499208</td>\n",
       "      <td>-1.158265</td>\n",
       "      <td>-0.875780</td>\n",
       "      <td>-0.576729</td>\n",
       "      <td>0.0</td>\n",
       "      <td>0.0</td>\n",
       "      <td>...</td>\n",
       "      <td>0.367507</td>\n",
       "      <td>0.890969</td>\n",
       "      <td>1.024695</td>\n",
       "      <td>-0.504069</td>\n",
       "      <td>-0.781456</td>\n",
       "      <td>0.133474</td>\n",
       "      <td>-0.315913</td>\n",
       "      <td>0.0</td>\n",
       "      <td>-0.905158</td>\n",
       "      <td>-1.268536</td>\n",
       "    </tr>\n",
       "    <tr>\n",
       "      <th>6487710</th>\n",
       "      <td>-0.778400</td>\n",
       "      <td>-1.567801</td>\n",
       "      <td>0.516471</td>\n",
       "      <td>0.669197</td>\n",
       "      <td>-1.147986</td>\n",
       "      <td>-0.070560</td>\n",
       "      <td>1.005007</td>\n",
       "      <td>-0.698032</td>\n",
       "      <td>0.0</td>\n",
       "      <td>0.0</td>\n",
       "      <td>...</td>\n",
       "      <td>-0.571522</td>\n",
       "      <td>-1.122373</td>\n",
       "      <td>-0.975900</td>\n",
       "      <td>2.746956</td>\n",
       "      <td>1.295881</td>\n",
       "      <td>0.296698</td>\n",
       "      <td>-0.997878</td>\n",
       "      <td>0.0</td>\n",
       "      <td>-0.742517</td>\n",
       "      <td>-1.268536</td>\n",
       "    </tr>\n",
       "    <tr>\n",
       "      <th>6487711</th>\n",
       "      <td>-0.611241</td>\n",
       "      <td>-1.543324</td>\n",
       "      <td>-1.011123</td>\n",
       "      <td>0.669197</td>\n",
       "      <td>-0.967057</td>\n",
       "      <td>-0.681083</td>\n",
       "      <td>-0.670866</td>\n",
       "      <td>-0.461675</td>\n",
       "      <td>0.0</td>\n",
       "      <td>0.0</td>\n",
       "      <td>...</td>\n",
       "      <td>-0.571522</td>\n",
       "      <td>-1.122373</td>\n",
       "      <td>-0.975900</td>\n",
       "      <td>2.746956</td>\n",
       "      <td>1.295881</td>\n",
       "      <td>0.296698</td>\n",
       "      <td>0.300993</td>\n",
       "      <td>0.0</td>\n",
       "      <td>0.299454</td>\n",
       "      <td>0.788310</td>\n",
       "    </tr>\n",
       "    <tr>\n",
       "      <th>6487712</th>\n",
       "      <td>-0.431193</td>\n",
       "      <td>0.344816</td>\n",
       "      <td>-0.202143</td>\n",
       "      <td>0.612634</td>\n",
       "      <td>-1.485495</td>\n",
       "      <td>-0.026901</td>\n",
       "      <td>0.522354</td>\n",
       "      <td>-0.451550</td>\n",
       "      <td>0.0</td>\n",
       "      <td>0.0</td>\n",
       "      <td>...</td>\n",
       "      <td>1.751501</td>\n",
       "      <td>0.838332</td>\n",
       "      <td>-0.975900</td>\n",
       "      <td>1.893171</td>\n",
       "      <td>1.931655</td>\n",
       "      <td>-0.841936</td>\n",
       "      <td>1.342561</td>\n",
       "      <td>0.0</td>\n",
       "      <td>0.696354</td>\n",
       "      <td>0.788310</td>\n",
       "    </tr>\n",
       "    <tr>\n",
       "      <th>6487713</th>\n",
       "      <td>-0.361871</td>\n",
       "      <td>-2.223857</td>\n",
       "      <td>0.759333</td>\n",
       "      <td>-1.494328</td>\n",
       "      <td>-0.801700</td>\n",
       "      <td>-0.557769</td>\n",
       "      <td>-0.045675</td>\n",
       "      <td>-0.899693</td>\n",
       "      <td>0.0</td>\n",
       "      <td>0.0</td>\n",
       "      <td>...</td>\n",
       "      <td>-0.571522</td>\n",
       "      <td>-1.122373</td>\n",
       "      <td>1.024695</td>\n",
       "      <td>3.491743</td>\n",
       "      <td>2.006025</td>\n",
       "      <td>0.296698</td>\n",
       "      <td>0.556485</td>\n",
       "      <td>0.0</td>\n",
       "      <td>-0.117234</td>\n",
       "      <td>0.411348</td>\n",
       "    </tr>\n",
       "  </tbody>\n",
       "</table>\n",
       "<p>6487714 rows × 81 columns</p>\n",
       "</div>"
      ],
      "text/plain": [
       "               0         1         2         3         4         5         6   \\\n",
       "0       -1.094610  0.510972 -0.479930 -1.494328 -0.868568 -1.474788 -0.875780   \n",
       "1       -1.094610  0.793438 -0.479930 -1.494328 -0.868568 -1.474788 -0.875780   \n",
       "2        0.741790 -0.156674  1.381446  0.669197  1.283904  0.146139 -0.653416   \n",
       "3        0.463548  0.562330  1.381446  0.669197  1.283904  0.146139 -0.653416   \n",
       "4       -0.872016  1.152940  1.381446  0.669197  1.283904  0.146139 -0.653416   \n",
       "...           ...       ...       ...       ...       ...       ...       ...   \n",
       "6487709 -0.836727  1.621280  1.487938 -1.494328 -1.499208 -1.158265 -0.875780   \n",
       "6487710 -0.778400 -1.567801  0.516471  0.669197 -1.147986 -0.070560  1.005007   \n",
       "6487711 -0.611241 -1.543324 -1.011123  0.669197 -0.967057 -0.681083 -0.670866   \n",
       "6487712 -0.431193  0.344816 -0.202143  0.612634 -1.485495 -0.026901  0.522354   \n",
       "6487713 -0.361871 -2.223857  0.759333 -1.494328 -0.801700 -0.557769 -0.045675   \n",
       "\n",
       "               7    8    9   ...        71        72        73        74  \\\n",
       "0       -0.838624  0.0  0.0  ...  3.184595  0.890969 -0.975900 -0.295822   \n",
       "1       -0.838624  0.0  0.0  ...  3.184595  0.890969 -0.975900 -0.687277   \n",
       "2        0.219378  0.0  0.0  ...  3.184595  0.890969 -0.975900 -0.850221   \n",
       "3        0.219378  0.0  0.0  ...  3.184595  0.890969  1.024695  0.014926   \n",
       "4        0.219378  0.0  0.0  ...  3.184595  0.890969  1.024695  0.027875   \n",
       "...           ...  ...  ...  ...       ...       ...       ...       ...   \n",
       "6487709 -0.576729  0.0  0.0  ...  0.367507  0.890969  1.024695 -0.504069   \n",
       "6487710 -0.698032  0.0  0.0  ... -0.571522 -1.122373 -0.975900  2.746956   \n",
       "6487711 -0.461675  0.0  0.0  ... -0.571522 -1.122373 -0.975900  2.746956   \n",
       "6487712 -0.451550  0.0  0.0  ...  1.751501  0.838332 -0.975900  1.893171   \n",
       "6487713 -0.899693  0.0  0.0  ... -0.571522 -1.122373  1.024695  3.491743   \n",
       "\n",
       "               75        76        77   78        79        80  \n",
       "0       -0.951457 -1.590157  0.800508  0.0 -2.499666 -1.268536  \n",
       "1       -0.951457 -1.590157  0.800508  0.0 -2.499666 -1.268536  \n",
       "2       -0.951457 -0.821849  0.800508  0.0 -2.499666 -1.268536  \n",
       "3        1.295881 -0.821849  0.800508  0.0 -2.499666 -1.268536  \n",
       "4        0.060131 -0.821849  0.800508  0.0 -2.499666 -1.268536  \n",
       "...           ...       ...       ...  ...       ...       ...  \n",
       "6487709 -0.781456  0.133474 -0.315913  0.0 -0.905158 -1.268536  \n",
       "6487710  1.295881  0.296698 -0.997878  0.0 -0.742517 -1.268536  \n",
       "6487711  1.295881  0.296698  0.300993  0.0  0.299454  0.788310  \n",
       "6487712  1.931655 -0.841936  1.342561  0.0  0.696354  0.788310  \n",
       "6487713  2.006025  0.296698  0.556485  0.0 -0.117234  0.411348  \n",
       "\n",
       "[6487714 rows x 81 columns]"
      ]
     },
     "execution_count": 2,
     "metadata": {},
     "output_type": "execute_result"
    }
   ],
   "source": [
    "pd.DataFrame(data_lst[0])"
   ]
  },
  {
   "cell_type": "code",
   "execution_count": 3,
   "id": "a1023936",
   "metadata": {},
   "outputs": [
    {
     "data": {
      "text/plain": [
       "0          0\n",
       "1          0\n",
       "2          0\n",
       "3          0\n",
       "4          1\n",
       "          ..\n",
       "3577312    0\n",
       "3577313    0\n",
       "3577314    0\n",
       "3577315    0\n",
       "3577316    0\n",
       "Name: is_applied, Length: 3577317, dtype: int64"
      ]
     },
     "execution_count": 3,
     "metadata": {},
     "output_type": "execute_result"
    }
   ],
   "source": [
    "value[1]"
   ]
  },
  {
   "cell_type": "code",
   "execution_count": 2,
   "id": "2513f7a9",
   "metadata": {},
   "outputs": [],
   "source": [
    "X_train = pd.DataFrame(data_lst[0])\n",
    "X_dev = pd.DataFrame(data_lst[1])\n",
    "test = pd.DataFrame(data_lst[2])\n",
    "\n",
    "y_train = value[0]\n",
    "y_dev = value[1]"
   ]
  },
  {
   "cell_type": "markdown",
   "id": "873e86fb",
   "metadata": {},
   "source": [
    "Data column명 변경"
   ]
  },
  {
   "cell_type": "code",
   "execution_count": 3,
   "id": "70530561",
   "metadata": {},
   "outputs": [],
   "source": [
    "column_name = ['loan_limit', 'loan_rate', 'birth_year', 'gender', 'credit_score',\n",
    "       'yearly_income', 'company_enter_month', 'desired_amount',\n",
    "       'personal_rehabilitation_yn', 'personal_rehabilitation_complete_yn',\n",
    "       'existing_loan_cnt', 'existing_loan_amt', 'continuous_use',\n",
    "       'event_nunique', 'event_count', 'have_a', 'have_b', 'have_c', 'have_d',\n",
    "       'have_e', 'have_f', 'have_g', 'have_h', 'have_i', 'have_j', 'have_k',\n",
    "       'most_week', 'employment_type_계약직', 'employment_type_기타',\n",
    "       'employment_type_일용직', 'employment_type_정규직', 'houseown_type_기타가족소유',\n",
    "       'houseown_type_배우자', 'houseown_type_자가', 'houseown_type_전월세',\n",
    "       'purpose_기타', 'purpose_대환대출', 'purpose_사업자금', 'purpose_생활비',\n",
    "       'purpose_자동차구입', 'purpose_전월세보증금', 'purpose_주택구입', 'purpose_투자',\n",
    "       'income_type_EARNEDINCOME', 'income_type_EARNEDINCOME2',\n",
    "       'income_type_FREELANCER', 'income_type_OTHERINCOME',\n",
    "       'income_type_PRACTITIONER', 'income_type_PRIVATEBUSINESS', 'time_days',\n",
    "       'mp_os_Android', 'mp_os_iOS', 'most_time_dawn', 'most_time_morning',\n",
    "       'most_time_night', 'most_time_nan', 'over_5minutes', 'over_10minutes',\n",
    "       'over_1hour', 'over_1day', 'interest_rate', 'st_interest',\n",
    "       'st_interest_rate', 'it_sensitivity', 'it_sensitivity_1',\n",
    "       'desired_amount_YN', 'desired_amount_rate', 'desired_amount_over',\n",
    "       'credit_score_f', 'loan_sum', 'loan_mean', 'visit_count',\n",
    "       'over_credit_interest', 'over_interest', 'product_applied',\n",
    "       'bank_applied', 'line_app_applied', 'loanapply_insert_weekday',\n",
    "       'loanapply_insert_jumal', 'loanapply_insert_hour',\n",
    "       'loanapply_insert_ohu']\n",
    "\n",
    "X_train.columns = column_name\n",
    "X_dev.columns = column_name\n",
    "test.columns = column_name"
   ]
  },
  {
   "cell_type": "markdown",
   "id": "c2320404",
   "metadata": {},
   "source": [
    "### 모델링"
   ]
  },
  {
   "cell_type": "code",
   "execution_count": 4,
   "id": "86f0e3d2",
   "metadata": {},
   "outputs": [],
   "source": [
    "# Data Wrangling\n",
    "import pandas as pd\n",
    "\n",
    "from pandas import Series, DataFrame\n",
    "import numpy as np\n",
    "\n",
    "# Visualization\n",
    "import matplotlib.pylab as plt\n",
    "from matplotlib import font_manager, rc\n",
    "%matplotlib inline\n",
    "rc('font', family='malgun gothic')\n",
    "import seaborn as sns\n",
    "%matplotlib inline\n",
    "\n",
    "# EDA\n",
    "\n",
    "# Preprocessing & Feature Engineering\n",
    "from sklearn.model_selection import train_test_split\n",
    "from sklearn.preprocessing import MinMaxScaler\n",
    "from sklearn.impute import SimpleImputer \n",
    "from sklearn.preprocessing import StandardScaler\n",
    "from sklearn.preprocessing import MinMaxScaler\n",
    "from sklearn.preprocessing import PowerTransformer\n",
    "from sklearn.feature_selection import SelectPercentile\n",
    "from sklearn.model_selection import StratifiedKFold\n",
    "from sklearn.cluster import KMeans\n",
    "from sklearn.model_selection import KFold\n",
    "\n",
    "from scipy.stats import randint as sp_randint\n",
    "from scipy.stats import uniform as sp_uniform\n",
    "from random import uniform\n",
    "from scipy.stats import gmean\n",
    "from scipy.stats import randint\n",
    "\n",
    "# Hyperparameter Optimization\n",
    "#import optuna                                            \n",
    "from sklearn import model_selection\n",
    "from sklearn.model_selection import RandomizedSearchCV\n",
    "from sklearn.model_selection import GridSearchCV\n",
    "\n",
    "# Modeling\n",
    "from sklearn.dummy import DummyClassifier\n",
    "from sklearn.linear_model import LogisticRegression\n",
    "from sklearn.neighbors import KNeighborsClassifier\n",
    "from sklearn.ensemble import RandomForestClassifier\n",
    "from sklearn.neural_network import MLPClassifier\n",
    "from sklearn.tree import DecisionTreeClassifier\n",
    "from sklearn.ensemble import GradientBoostingClassifier\n",
    "from sklearn.svm import SVC\n",
    "from sklearn.ensemble import VotingClassifier\n",
    "from sklearn.ensemble import StackingClassifier\n",
    "from sklearn.base import ClassifierMixin\n",
    "from sklearn.ensemble import RandomForestClassifier, AdaBoostClassifier, GradientBoostingClassifier\n",
    "from xgboost import XGBRegressor\n",
    "from lightgbm import LGBMRegressor\n",
    "from catboost import CatBoostClassifier\n",
    "from xgboost import XGBClassifier \n",
    "from sklearn.model_selection import RepeatedKFold\n",
    "from sklearn.ensemble import ExtraTreesClassifier\n",
    "from lightgbm import LGBMRegressor, LGBMClassifier\n",
    "\n",
    "# Evaluation\n",
    "from sklearn.metrics import roc_auc_score\n",
    "from sklearn.metrics import accuracy_score\n",
    "from sklearn.metrics import f1_score\n",
    "from sklearn.metrics import precision_score\n",
    "from sklearn.metrics import recall_score\n",
    "from sklearn.metrics import confusion_matrix\n",
    "from sklearn.model_selection import cross_val_score\n",
    "\n",
    "# Utility\n",
    "import os\n",
    "import time\n",
    "import random\n",
    "import warnings; warnings.filterwarnings(\"ignore\")\n",
    "from IPython.display import Image\n",
    "import pickle\n",
    "from tqdm import tqdm\n",
    "import platform\n",
    "from itertools import combinations\n",
    "from scipy.stats.mstats import gmean\n",
    "from sklearn.decomposition import PCA\n",
    "import datetime\n",
    "from sklearn.metrics import make_scorer\n",
    "from sklearn.metrics import log_loss"
   ]
  },
  {
   "cell_type": "code",
   "execution_count": 6,
   "id": "a3ac0bf1",
   "metadata": {},
   "outputs": [
    {
     "data": {
      "text/plain": [
       "((6487714, 81), (3577317, 81), (6487714,), (3577317,))"
      ]
     },
     "execution_count": 6,
     "metadata": {},
     "output_type": "execute_result"
    }
   ],
   "source": [
    "X_train.shape, X_dev.shape, y_train.shape, y_dev.shape"
   ]
  },
  {
   "cell_type": "code",
   "execution_count": 19,
   "id": "7e1cc978",
   "metadata": {},
   "outputs": [],
   "source": [
    "clfs_tuned = []"
   ]
  },
  {
   "cell_type": "markdown",
   "id": "674759d6",
   "metadata": {},
   "source": [
    "#### LGBM"
   ]
  },
  {
   "cell_type": "code",
   "execution_count": 8,
   "id": "865bdc4e",
   "metadata": {},
   "outputs": [],
   "source": [
    "#from sklearn.metrics import make_scorer\n",
    "#myscore = make_scorer(f1_score, average='macro')\n",
    "import optuna"
   ]
  },
  {
   "cell_type": "code",
   "execution_count": null,
   "id": "ab00cb19",
   "metadata": {
    "collapsed": true
   },
   "outputs": [
    {
     "name": "stderr",
     "output_type": "stream",
     "text": [
      "\u001b[32m[I 2022-10-12 17:54:29,274]\u001b[0m A new study created in memory with name: no-name-682b57f5-dc84-4bf8-844c-c8851b2c12d3\u001b[0m\n",
      "\u001b[32m[I 2022-10-12 18:02:33,808]\u001b[0m Trial 0 finished with value: 0.310108688985308 and parameters: {'learning_rate': 0.08484520676548311, 'n_estimators': 2937, 'max_depth': 44, 'subsample': 0.8458798759078779, 'colsample_bytree': 0.7396805985299568, 'min_child_samples': 15, 'num_leaves': 30}. Best is trial 0 with value: 0.310108688985308.\u001b[0m\n",
      "\u001b[32m[I 2022-10-12 18:13:24,389]\u001b[0m Trial 1 finished with value: 0.3488054838744549 and parameters: {'learning_rate': 0.02670613010938743, 'n_estimators': 2533, 'max_depth': 6, 'subsample': 0.8467114837834406, 'colsample_bytree': 0.8582612599654333, 'min_child_samples': 22, 'num_leaves': 40}. Best is trial 1 with value: 0.3488054838744549.\u001b[0m\n",
      "\u001b[32m[I 2022-10-12 18:18:37,585]\u001b[0m Trial 2 finished with value: 0.4470189765478695 and parameters: {'learning_rate': 0.027474535999186846, 'n_estimators': 1072, 'max_depth': 47, 'subsample': 0.8830948233918493, 'colsample_bytree': 0.7875644451878228, 'min_child_samples': 8, 'num_leaves': 25}. Best is trial 2 with value: 0.4470189765478695.\u001b[0m\n",
      "\u001b[32m[I 2022-10-12 18:28:13,275]\u001b[0m Trial 3 finished with value: 0.35660736674071175 and parameters: {'learning_rate': 0.03676193451647086, 'n_estimators': 2747, 'max_depth': 46, 'subsample': 0.862781261724077, 'colsample_bytree': 0.8482863908598993, 'min_child_samples': 6, 'num_leaves': 19}. Best is trial 2 with value: 0.4470189765478695.\u001b[0m\n",
      "\u001b[32m[I 2022-10-12 18:31:29,987]\u001b[0m Trial 4 finished with value: 0.5274714349595162 and parameters: {'learning_rate': 0.032231950368759234, 'n_estimators': 1108, 'max_depth': 11, 'subsample': 0.9050253243317143, 'colsample_bytree': 0.8964864053567847, 'min_child_samples': 31, 'num_leaves': 7}. Best is trial 4 with value: 0.5274714349595162.\u001b[0m\n",
      "\u001b[32m[I 2022-10-12 18:41:00,072]\u001b[0m Trial 5 finished with value: 0.5363152220589443 and parameters: {'learning_rate': 0.008164717343237328, 'n_estimators': 2110, 'max_depth': 11, 'subsample': 0.8776245297719645, 'colsample_bytree': 0.872395049921425, 'min_child_samples': 38, 'num_leaves': 18}. Best is trial 5 with value: 0.5363152220589443.\u001b[0m\n",
      "\u001b[32m[I 2022-10-12 18:47:52,538]\u001b[0m Trial 6 finished with value: 0.3121541653132621 and parameters: {'learning_rate': 0.09703421368224392, 'n_estimators': 2153, 'max_depth': 49, 'subsample': 0.8020089727888083, 'colsample_bytree': 0.8837054948767928, 'min_child_samples': 18, 'num_leaves': 25}. Best is trial 5 with value: 0.5363152220589443.\u001b[0m\n",
      "\u001b[32m[I 2022-10-12 18:52:52,836]\u001b[0m Trial 7 finished with value: 0.377629530657771 and parameters: {'learning_rate': 0.053086794173195374, 'n_estimators': 1058, 'max_depth': 42, 'subsample': 0.9767172329155122, 'colsample_bytree': 0.8164218701224552, 'min_child_samples': 38, 'num_leaves': 38}. Best is trial 5 with value: 0.5363152220589443.\u001b[0m\n",
      "\u001b[32m[I 2022-10-12 19:01:35,699]\u001b[0m Trial 8 finished with value: 0.3421447916200425 and parameters: {'learning_rate': 0.04424297505036089, 'n_estimators': 2656, 'max_depth': 36, 'subsample': 0.9651579076887398, 'colsample_bytree': 0.7318145157988849, 'min_child_samples': 34, 'num_leaves': 33}. Best is trial 5 with value: 0.5363152220589443.\u001b[0m\n",
      "\u001b[32m[I 2022-10-12 19:05:37,134]\u001b[0m Trial 9 finished with value: 0.3358735162049449 and parameters: {'learning_rate': 0.09267596983282422, 'n_estimators': 1219, 'max_depth': 43, 'subsample': 0.9112901478565664, 'colsample_bytree': 0.7051596702097019, 'min_child_samples': 6, 'num_leaves': 33}. Best is trial 5 with value: 0.5363152220589443.\u001b[0m\n",
      "\u001b[32m[I 2022-10-12 19:13:16,782]\u001b[0m Trial 10 finished with value: 0.5806880091000237 and parameters: {'learning_rate': 0.0010213173484988642, 'n_estimators': 1794, 'max_depth': 20, 'subsample': 0.9449924534301671, 'colsample_bytree': 0.948968639752794, 'min_child_samples': 29, 'num_leaves': 13}. Best is trial 10 with value: 0.5806880091000237.\u001b[0m\n",
      "\u001b[32m[I 2022-10-12 19:20:58,463]\u001b[0m Trial 11 finished with value: 0.589024177360408 and parameters: {'learning_rate': 0.0012225668731865365, 'n_estimators': 1809, 'max_depth': 19, 'subsample': 0.9365313000020803, 'colsample_bytree': 0.9462667679167794, 'min_child_samples': 29, 'num_leaves': 13}. Best is trial 11 with value: 0.589024177360408.\u001b[0m\n",
      "\u001b[32m[I 2022-10-12 19:27:01,324]\u001b[0m Trial 12 finished with value: 0.623513067215748 and parameters: {'learning_rate': 0.0032552978971633535, 'n_estimators': 1642, 'max_depth': 22, 'subsample': 0.940893216226454, 'colsample_bytree': 0.9387153676289544, 'min_child_samples': 28, 'num_leaves': 10}. Best is trial 12 with value: 0.623513067215748.\u001b[0m\n",
      "\u001b[32m[I 2022-10-12 19:28:42,814]\u001b[0m Trial 13 finished with value: 0.6142044083461186 and parameters: {'learning_rate': 0.01369253756127279, 'n_estimators': 610, 'max_depth': 25, 'subsample': 0.9393404130290233, 'colsample_bytree': 0.9471195973484164, 'min_child_samples': 25, 'num_leaves': 5}. Best is trial 12 with value: 0.623513067215748.\u001b[0m\n",
      "\u001b[32m[I 2022-10-12 19:30:40,852]\u001b[0m Trial 14 finished with value: 0.6252108276260249 and parameters: {'learning_rate': 0.015988703922586642, 'n_estimators': 550, 'max_depth': 30, 'subsample': 0.998622545446175, 'colsample_bytree': 0.9139873162703811, 'min_child_samples': 26, 'num_leaves': 9}. Best is trial 14 with value: 0.6252108276260249.\u001b[0m\n",
      "\u001b[32m[I 2022-10-12 19:32:32,676]\u001b[0m Trial 15 finished with value: 0.5059907318690927 and parameters: {'learning_rate': 0.06255613228795802, 'n_estimators': 501, 'max_depth': 33, 'subsample': 0.9996723837256382, 'colsample_bytree': 0.9140639251542586, 'min_child_samples': 19, 'num_leaves': 11}. Best is trial 14 with value: 0.6252108276260249.\u001b[0m\n",
      "\u001b[32m[I 2022-10-12 19:37:41,367]\u001b[0m Trial 16 finished with value: 0.5319201515045354 and parameters: {'learning_rate': 0.017690154726213686, 'n_estimators': 1478, 'max_depth': 30, 'subsample': 0.9951237871597987, 'colsample_bytree': 0.9141074905052533, 'min_child_samples': 25, 'num_leaves': 10}. Best is trial 14 with value: 0.6252108276260249.\u001b[0m\n",
      "\u001b[32m[I 2022-10-12 19:41:17,284]\u001b[0m Trial 17 finished with value: 0.5567183597598849 and parameters: {'learning_rate': 0.01941380100557124, 'n_estimators': 800, 'max_depth': 24, 'subsample': 0.9646115003024467, 'colsample_bytree': 0.815905317121151, 'min_child_samples': 12, 'num_leaves': 17}. Best is trial 14 with value: 0.6252108276260249.\u001b[0m\n",
      "\u001b[32m[I 2022-10-12 19:45:43,025]\u001b[0m Trial 18 finished with value: 0.4322361342943373 and parameters: {'learning_rate': 0.053116090520737194, 'n_estimators': 1507, 'max_depth': 37, 'subsample': 0.9241244185580642, 'colsample_bytree': 0.9146593892598659, 'min_child_samples': 34, 'num_leaves': 8}. Best is trial 14 with value: 0.6252108276260249.\u001b[0m\n",
      "\u001b[32m[I 2022-10-12 19:48:56,381]\u001b[0m Trial 19 finished with value: 0.6200294256710379 and parameters: {'learning_rate': 0.01229237586895562, 'n_estimators': 791, 'max_depth': 19, 'subsample': 0.9762485386192468, 'colsample_bytree': 0.7770305630063368, 'min_child_samples': 24, 'num_leaves': 15}. Best is trial 14 with value: 0.6252108276260249.\u001b[0m\n",
      "\u001b[32m[I 2022-10-12 19:57:11,874]\u001b[0m Trial 20 finished with value: 0.36284962972527823 and parameters: {'learning_rate': 0.041829406299893734, 'n_estimators': 2243, 'max_depth': 29, 'subsample': 0.9529002244800038, 'colsample_bytree': 0.8467709814123532, 'min_child_samples': 20, 'num_leaves': 22}. Best is trial 14 with value: 0.6252108276260249.\u001b[0m\n",
      "\u001b[32m[I 2022-10-12 20:00:30,234]\u001b[0m Trial 21 finished with value: 0.6226040277356002 and parameters: {'learning_rate': 0.011064394185524795, 'n_estimators': 810, 'max_depth': 18, 'subsample': 0.9824754080053499, 'colsample_bytree': 0.7795249468239074, 'min_child_samples': 25, 'num_leaves': 15}. Best is trial 14 with value: 0.6252108276260249.\u001b[0m\n",
      "\u001b[32m[I 2022-10-12 20:03:15,630]\u001b[0m Trial 22 finished with value: 0.5845212811131916 and parameters: {'learning_rate': 0.02157025455638654, 'n_estimators': 824, 'max_depth': 14, 'subsample': 0.986451287032799, 'colsample_bytree': 0.7814656799546621, 'min_child_samples': 28, 'num_leaves': 10}. Best is trial 14 with value: 0.6252108276260249.\u001b[0m\n",
      "\u001b[32m[I 2022-10-12 20:06:37,695]\u001b[0m Trial 23 finished with value: 0.6167691642752156 and parameters: {'learning_rate': 0.009700090084062661, 'n_estimators': 1376, 'max_depth': 24, 'subsample': 0.9621874365259999, 'colsample_bytree': 0.7637610157868671, 'min_child_samples': 33, 'num_leaves': 5}. Best is trial 14 with value: 0.6252108276260249.\u001b[0m\n",
      "\u001b[32m[I 2022-10-12 20:09:14,649]\u001b[0m Trial 24 finished with value: 0.45142376892753217 and parameters: {'learning_rate': 0.06928862255798095, 'n_estimators': 701, 'max_depth': 16, 'subsample': 0.984800010387813, 'colsample_bytree': 0.7982973406779547, 'min_child_samples': 27, 'num_leaves': 14}. Best is trial 14 with value: 0.6252108276260249.\u001b[0m\n",
      "\u001b[32m[I 2022-10-12 20:12:23,102]\u001b[0m Trial 25 finished with value: 0.618006053501641 and parameters: {'learning_rate': 0.005637685137825109, 'n_estimators': 935, 'max_depth': 26, 'subsample': 0.9235745167658573, 'colsample_bytree': 0.9250191646810857, 'min_child_samples': 22, 'num_leaves': 8}. Best is trial 14 with value: 0.6252108276260249.\u001b[0m\n",
      "\u001b[32m[I 2022-10-12 20:19:03,380]\u001b[0m Trial 26 finished with value: 0.45327166036567784 and parameters: {'learning_rate': 0.02435865744552998, 'n_estimators': 1646, 'max_depth': 22, 'subsample': 0.999350506432861, 'colsample_bytree': 0.8328450198157211, 'min_child_samples': 16, 'num_leaves': 16}. Best is trial 14 with value: 0.6252108276260249.\u001b[0m\n",
      "\u001b[32m[I 2022-10-12 20:23:32,983]\u001b[0m Trial 27 finished with value: 0.4687468241574694 and parameters: {'learning_rate': 0.03341845258930492, 'n_estimators': 1287, 'max_depth': 32, 'subsample': 0.953971605509419, 'colsample_bytree': 0.8980440788937373, 'min_child_samples': 32, 'num_leaves': 11}. Best is trial 14 with value: 0.6252108276260249.\u001b[0m\n",
      "\u001b[32m[I 2022-10-12 20:25:47,172]\u001b[0m Trial 28 finished with value: 0.6214500137225347 and parameters: {'learning_rate': 0.015652669753676334, 'n_estimators': 500, 'max_depth': 15, 'subsample': 0.9725953181064417, 'colsample_bytree': 0.7522757016024813, 'min_child_samples': 36, 'num_leaves': 20}. Best is trial 14 with value: 0.6252108276260249.\u001b[0m\n",
      "\u001b[32m[I 2022-10-12 20:33:21,661]\u001b[0m Trial 29 finished with value: 0.6055080658915385 and parameters: {'learning_rate': 0.006387613571666052, 'n_estimators': 1963, 'max_depth': 5, 'subsample': 0.9816660715675092, 'colsample_bytree': 0.9318352991890633, 'min_child_samples': 26, 'num_leaves': 22}. Best is trial 14 with value: 0.6252108276260249.\u001b[0m\n"
     ]
    }
   ],
   "source": [
    "def objective(trial):\n",
    "    lgbm_learning_rate = trial.suggest_float(\"learning_rate\", 0.001, 0.1)\n",
    "    lgbm_n_estimators = trial.suggest_int(\"n_estimators\", 500, 3000)\n",
    "    lgbm_max_depth = trial.suggest_int(\"max_depth\", 5, 50)\n",
    "    lgbm_subsample = trial.suggest_float(\"subsample\", 0.8, 1)\n",
    "    lgbm_colsample_bytree = trial.suggest_float(\"colsample_bytree\", 0.7, 0.95)\n",
    "    lgbm_min_child_samples = trial.suggest_int(\"min_child_samples\", 5, 40)\n",
    "    lgbm_num_leaves = trial.suggest_int(\"num_leaves\", 5, 40)\n",
    "\n",
    "    \n",
    "    classifier_obj = LGBMClassifier(learning_rate=lgbm_learning_rate,\n",
    "                                    n_estimators=lgbm_n_estimators,\n",
    "                                    max_depth = lgbm_max_depth, # 과적합된 것 같다 _ max_depth 값을 줄이기\n",
    "                                    subsample = lgbm_subsample,\n",
    "                                    colsample_bytree = lgbm_colsample_bytree,\n",
    "                                    min_child_samples = lgbm_min_child_samples, # 보통 큰 값으로 설정하면 트리가 깊어지는 것을 방지\n",
    "                                    num_leaves = lgbm_num_leaves,\n",
    "                                    application ='binary',\n",
    "                                    # num_leaves의 개수를 높이면 정확도가 높아지지만, \n",
    "                                    # 반대로 트리의 깊이가 깊어지고 모델이 복잡도가 커져 과적합 영향도가 커짐\n",
    "                                    random_state=2020\n",
    "                                    )\n",
    "    classifier_obj.fit(X_train, y_train)\n",
    "    \n",
    "    preds = classifier_obj.predict(X_dev)\n",
    "    #probs = classifier_obj.predict_proba(X_dev)\n",
    "\n",
    "    # Metrics\n",
    "    f1 = f1_score(y_dev, preds, average='macro')\n",
    "    \n",
    "    return f1\n",
    "\n",
    "\n",
    "study = optuna.create_study(direction=\"maximize\")\n",
    "study.optimize(objective, n_trials=50)\n",
    "print(study.best_trial)"
   ]
  },
  {
   "cell_type": "code",
   "execution_count": 14,
   "id": "3024cf3c",
   "metadata": {},
   "outputs": [],
   "source": [
    "#max_lgbm = study.best_params\n",
    "max_lgbm = {'learning_rate': 0.009005688196459308,\n",
    " 'n_estimators': 835,\n",
    " 'max_depth': 15,\n",
    " 'subsample': 0.9576877183984386,\n",
    " 'colsample_bytree': 0.7655760546960592,\n",
    " 'min_child_samples': 35,\n",
    " 'num_leaves': 12}"
   ]
  },
  {
   "cell_type": "code",
   "execution_count": 15,
   "id": "17fda086",
   "metadata": {},
   "outputs": [
    {
     "data": {
      "text/plain": [
       "LGBMClassifier(colsample_bytree=0.7655760546960592,\n",
       "               learning_rate=0.009005688196459308, max_depth=15,\n",
       "               min_child_samples=35, n_estimators=835, num_leaves=12,\n",
       "               subsample=0.9576877183984386)"
      ]
     },
     "execution_count": 15,
     "metadata": {},
     "output_type": "execute_result"
    }
   ],
   "source": [
    "lgbm_tune = LGBMClassifier(**max_lgbm, n_jobs=-1)\n",
    "lgbm_tune.fit(X_train, y_train)"
   ]
  },
  {
   "cell_type": "code",
   "execution_count": 16,
   "id": "8485115c",
   "metadata": {},
   "outputs": [
    {
     "data": {
      "text/plain": [
       "['../model/lgbm_tune.pkl']"
      ]
     },
     "execution_count": 16,
     "metadata": {},
     "output_type": "execute_result"
    }
   ],
   "source": [
    "joblib.dump(lgbm_tune, '../model/lgbm_tune.pkl')"
   ]
  },
  {
   "cell_type": "code",
   "execution_count": 22,
   "id": "b53af2a4",
   "metadata": {},
   "outputs": [
    {
     "data": {
      "text/plain": [
       "LGBMClassifier(colsample_bytree=0.9139873162703811,\n",
       "               learning_rate=0.015988703922586642, max_depth=30,\n",
       "               min_child_samples=26, n_estimators=550, num_leaves=9,\n",
       "               subsample=0.998622545446175)"
      ]
     },
     "execution_count": 22,
     "metadata": {},
     "output_type": "execute_result"
    }
   ],
   "source": [
    "max2_lgbm = {'learning_rate': 0.015988703922586642, 'n_estimators': 550, 'max_depth': 30, \n",
    "             'subsample': 0.998622545446175, 'colsample_bytree': 0.9139873162703811, 'min_child_samples': 26, \n",
    "             'num_leaves': 9}\n",
    "lgbm_tune2 = LGBMClassifier(**max2_lgbm, n_jobs=-1)\n",
    "lgbm_tune2.fit(X_train, y_train)"
   ]
  },
  {
   "cell_type": "code",
   "execution_count": 23,
   "id": "e78aabf5",
   "metadata": {},
   "outputs": [],
   "source": [
    "lgbm_tune_pred = lgbm_tune.predict(X_dev)\n",
    "lgbm_tune_proba = lgbm_tune.predict_proba(X_dev)[:,1]"
   ]
  },
  {
   "cell_type": "code",
   "execution_count": 24,
   "id": "d6738236",
   "metadata": {},
   "outputs": [],
   "source": [
    "lgbm_tune2_pred = lgbm_tune2.predict(X_dev)\n",
    "lgbm_tune2_proba = lgbm_tune2.predict_proba(X_dev)[:,1]"
   ]
  },
  {
   "cell_type": "code",
   "execution_count": 25,
   "id": "3ed6f7d6",
   "metadata": {},
   "outputs": [
    {
     "name": "stdout",
     "output_type": "stream",
     "text": [
      "              precision    recall  f1-score   support\n",
      "\n",
      "           0       0.96      0.92      0.94   3376196\n",
      "           1       0.25      0.42      0.31    201121\n",
      "\n",
      "    accuracy                           0.89   3577317\n",
      "   macro avg       0.60      0.67      0.63   3577317\n",
      "weighted avg       0.92      0.89      0.91   3577317\n",
      "\n",
      "              precision    recall  f1-score   support\n",
      "\n",
      "           0       0.96      0.92      0.94   3376196\n",
      "           1       0.24      0.43      0.31    201121\n",
      "\n",
      "    accuracy                           0.89   3577317\n",
      "   macro avg       0.60      0.68      0.63   3577317\n",
      "weighted avg       0.92      0.89      0.91   3577317\n",
      "\n"
     ]
    }
   ],
   "source": [
    "from sklearn.metrics import classification_report\n",
    "print(classification_report(y_dev, lgbm_tune_pred))\n",
    "print(classification_report(y_dev, lgbm_tune2_pred))"
   ]
  },
  {
   "cell_type": "code",
   "execution_count": 26,
   "id": "00554235",
   "metadata": {},
   "outputs": [
    {
     "name": "stdout",
     "output_type": "stream",
     "text": [
      "f1 score :  0.3093872090501795\n",
      "precision score :  0.24538763136031716\n",
      "recall score :  0.41854903267187415\n",
      "rocauc :  0.834488185025864\n",
      "[[3117330  258866]\n",
      " [ 116942   84179]]\n"
     ]
    }
   ],
   "source": [
    "print('f1 score : ', f1_score(y_dev, lgbm_tune_pred))\n",
    "print('precision score : ', precision_score(y_dev, lgbm_tune_pred))\n",
    "print('recall score : ', recall_score(y_dev, lgbm_tune_pred))\n",
    "print('rocauc : ', roc_auc_score(y_dev,lgbm_tune_proba))\n",
    "\n",
    "print(confusion_matrix(y_dev,lgbm_tune_pred))"
   ]
  },
  {
   "cell_type": "code",
   "execution_count": 27,
   "id": "c9fabec0",
   "metadata": {},
   "outputs": [
    {
     "data": {
      "text/plain": [
       "0.6262683856147192"
      ]
     },
     "execution_count": 27,
     "metadata": {},
     "output_type": "execute_result"
    }
   ],
   "source": [
    "f1_score(y_dev, lgbm_tune_pred, average='macro')"
   ]
  },
  {
   "cell_type": "code",
   "execution_count": 28,
   "id": "c8e70140",
   "metadata": {},
   "outputs": [
    {
     "name": "stdout",
     "output_type": "stream",
     "text": [
      "f1 score :  0.3097867164144598\n",
      "precision score :  0.24114435381608165\n",
      "recall score :  0.43305771152689176\n",
      "rocauc :  0.8337395650527896\n",
      "[[3102111  274085]\n",
      " [ 114024   87097]]\n"
     ]
    }
   ],
   "source": [
    "print('f1 score : ', f1_score(y_dev, lgbm_tune2_pred))\n",
    "print('precision score : ', precision_score(y_dev, lgbm_tune2_pred))\n",
    "print('recall score : ', recall_score(y_dev, lgbm_tune2_pred))\n",
    "print('rocauc : ', roc_auc_score(y_dev,lgbm_tune2_proba))\n",
    "\n",
    "print(confusion_matrix(y_dev,lgbm_tune2_pred))"
   ]
  },
  {
   "cell_type": "code",
   "execution_count": 29,
   "id": "85dced80",
   "metadata": {},
   "outputs": [
    {
     "data": {
      "text/plain": [
       "0.6254569570313787"
      ]
     },
     "execution_count": 29,
     "metadata": {},
     "output_type": "execute_result"
    }
   ],
   "source": [
    "f1_score(y_dev, lgbm_tune2_pred, average='macro')"
   ]
  },
  {
   "cell_type": "code",
   "execution_count": 30,
   "id": "042cb36a",
   "metadata": {},
   "outputs": [
    {
     "data": {
      "text/plain": [
       "('LGBMClassifier',\n",
       " LGBMClassifier(colsample_bytree=0.7655760546960592,\n",
       "                learning_rate=0.009005688196459308, max_depth=15,\n",
       "                min_child_samples=35, n_estimators=835, num_leaves=12,\n",
       "                subsample=0.9576877183984386),\n",
       " 0.3093872090501795)"
      ]
     },
     "execution_count": 30,
     "metadata": {},
     "output_type": "execute_result"
    }
   ],
   "source": [
    "# f1 macro, roc auc score가 더 높은 모델1을 선택\n",
    "clfs_tuned.append((type(lgbm_tune).__name__, \n",
    "                   lgbm_tune, \n",
    "                   f1_score(y_dev, lgbm_tune_pred)))\n",
    "clfs_tuned[0]"
   ]
  },
  {
   "cell_type": "code",
   "execution_count": 33,
   "id": "6a92a4a3",
   "metadata": {
    "scrolled": false
   },
   "outputs": [
    {
     "data": {
      "image/png": "[encoded data removed]",
      "text/plain": [
       "<Figure size 720x864 with 1 Axes>"
      ]
     },
     "metadata": {},
     "output_type": "display_data"
    }
   ],
   "source": [
    "# Feature importance 확인\n",
    "from lightgbm import plot_importance\n",
    "import matplotlib.pyplot as plt\n",
    "%matplotlib inline\n",
    "plt.style.use(['dark_background'])\n",
    "\n",
    "fig, ax = plt.subplots(figsize = (10, 12))\n",
    "plot_importance(lgbm_tune, ax=ax)\n",
    "plt.show()"
   ]
  },
  {
   "cell_type": "code",
   "execution_count": 56,
   "id": "945cde94",
   "metadata": {},
   "outputs": [
    {
     "data": {
      "text/html": [
       "<div>\n",
       "<style scoped>\n",
       "    .dataframe tbody tr th:only-of-type {\n",
       "        vertical-align: middle;\n",
       "    }\n",
       "\n",
       "    .dataframe tbody tr th {\n",
       "        vertical-align: top;\n",
       "    }\n",
       "\n",
       "    .dataframe thead th {\n",
       "        text-align: right;\n",
       "    }\n",
       "</style>\n",
       "<table border=\"1\" class=\"dataframe\">\n",
       "  <thead>\n",
       "    <tr style=\"text-align: right;\">\n",
       "      <th></th>\n",
       "      <th>name</th>\n",
       "      <th>importance</th>\n",
       "    </tr>\n",
       "  </thead>\n",
       "  <tbody>\n",
       "    <tr>\n",
       "      <th>14</th>\n",
       "      <td>event_count</td>\n",
       "      <td>1121</td>\n",
       "    </tr>\n",
       "    <tr>\n",
       "      <th>77</th>\n",
       "      <td>loanapply_insert_weekday</td>\n",
       "      <td>865</td>\n",
       "    </tr>\n",
       "    <tr>\n",
       "      <th>79</th>\n",
       "      <td>loanapply_insert_hour</td>\n",
       "      <td>768</td>\n",
       "    </tr>\n",
       "    <tr>\n",
       "      <th>10</th>\n",
       "      <td>existing_loan_cnt</td>\n",
       "      <td>722</td>\n",
       "    </tr>\n",
       "    <tr>\n",
       "      <th>6</th>\n",
       "      <td>company_enter_month</td>\n",
       "      <td>689</td>\n",
       "    </tr>\n",
       "    <tr>\n",
       "      <th>68</th>\n",
       "      <td>credit_score_f</td>\n",
       "      <td>617</td>\n",
       "    </tr>\n",
       "    <tr>\n",
       "      <th>74</th>\n",
       "      <td>product_applied</td>\n",
       "      <td>496</td>\n",
       "    </tr>\n",
       "    <tr>\n",
       "      <th>4</th>\n",
       "      <td>credit_score</td>\n",
       "      <td>347</td>\n",
       "    </tr>\n",
       "    <tr>\n",
       "      <th>66</th>\n",
       "      <td>desired_amount_rate</td>\n",
       "      <td>346</td>\n",
       "    </tr>\n",
       "    <tr>\n",
       "      <th>1</th>\n",
       "      <td>loan_rate</td>\n",
       "      <td>323</td>\n",
       "    </tr>\n",
       "    <tr>\n",
       "      <th>26</th>\n",
       "      <td>most_week</td>\n",
       "      <td>306</td>\n",
       "    </tr>\n",
       "    <tr>\n",
       "      <th>12</th>\n",
       "      <td>continuous_use</td>\n",
       "      <td>303</td>\n",
       "    </tr>\n",
       "    <tr>\n",
       "      <th>75</th>\n",
       "      <td>bank_applied</td>\n",
       "      <td>298</td>\n",
       "    </tr>\n",
       "    <tr>\n",
       "      <th>72</th>\n",
       "      <td>over_credit_interest</td>\n",
       "      <td>276</td>\n",
       "    </tr>\n",
       "    <tr>\n",
       "      <th>73</th>\n",
       "      <td>over_interest</td>\n",
       "      <td>232</td>\n",
       "    </tr>\n",
       "    <tr>\n",
       "      <th>76</th>\n",
       "      <td>line_app_applied</td>\n",
       "      <td>227</td>\n",
       "    </tr>\n",
       "    <tr>\n",
       "      <th>13</th>\n",
       "      <td>event_nunique</td>\n",
       "      <td>210</td>\n",
       "    </tr>\n",
       "    <tr>\n",
       "      <th>38</th>\n",
       "      <td>purpose_생활비</td>\n",
       "      <td>208</td>\n",
       "    </tr>\n",
       "    <tr>\n",
       "      <th>65</th>\n",
       "      <td>desired_amount_YN</td>\n",
       "      <td>169</td>\n",
       "    </tr>\n",
       "    <tr>\n",
       "      <th>7</th>\n",
       "      <td>desired_amount</td>\n",
       "      <td>153</td>\n",
       "    </tr>\n",
       "    <tr>\n",
       "      <th>0</th>\n",
       "      <td>loan_limit</td>\n",
       "      <td>111</td>\n",
       "    </tr>\n",
       "    <tr>\n",
       "      <th>17</th>\n",
       "      <td>have_c</td>\n",
       "      <td>79</td>\n",
       "    </tr>\n",
       "    <tr>\n",
       "      <th>71</th>\n",
       "      <td>visit_count</td>\n",
       "      <td>70</td>\n",
       "    </tr>\n",
       "    <tr>\n",
       "      <th>19</th>\n",
       "      <td>have_e</td>\n",
       "      <td>56</td>\n",
       "    </tr>\n",
       "    <tr>\n",
       "      <th>49</th>\n",
       "      <td>time_days</td>\n",
       "      <td>45</td>\n",
       "    </tr>\n",
       "    <tr>\n",
       "      <th>5</th>\n",
       "      <td>yearly_income</td>\n",
       "      <td>32</td>\n",
       "    </tr>\n",
       "    <tr>\n",
       "      <th>62</th>\n",
       "      <td>st_interest_rate</td>\n",
       "      <td>25</td>\n",
       "    </tr>\n",
       "    <tr>\n",
       "      <th>61</th>\n",
       "      <td>st_interest</td>\n",
       "      <td>25</td>\n",
       "    </tr>\n",
       "    <tr>\n",
       "      <th>16</th>\n",
       "      <td>have_b</td>\n",
       "      <td>19</td>\n",
       "    </tr>\n",
       "    <tr>\n",
       "      <th>2</th>\n",
       "      <td>birth_year</td>\n",
       "      <td>11</td>\n",
       "    </tr>\n",
       "    <tr>\n",
       "      <th>36</th>\n",
       "      <td>purpose_대환대출</td>\n",
       "      <td>10</td>\n",
       "    </tr>\n",
       "    <tr>\n",
       "      <th>80</th>\n",
       "      <td>loanapply_insert_ohu</td>\n",
       "      <td>10</td>\n",
       "    </tr>\n",
       "  </tbody>\n",
       "</table>\n",
       "</div>"
      ],
      "text/plain": [
       "                        name  importance\n",
       "14               event_count        1121\n",
       "77  loanapply_insert_weekday         865\n",
       "79     loanapply_insert_hour         768\n",
       "10         existing_loan_cnt         722\n",
       "6        company_enter_month         689\n",
       "68            credit_score_f         617\n",
       "74           product_applied         496\n",
       "4               credit_score         347\n",
       "66       desired_amount_rate         346\n",
       "1                  loan_rate         323\n",
       "26                 most_week         306\n",
       "12            continuous_use         303\n",
       "75              bank_applied         298\n",
       "72      over_credit_interest         276\n",
       "73             over_interest         232\n",
       "76          line_app_applied         227\n",
       "13             event_nunique         210\n",
       "38               purpose_생활비         208\n",
       "65         desired_amount_YN         169\n",
       "7             desired_amount         153\n",
       "0                 loan_limit         111\n",
       "17                    have_c          79\n",
       "71               visit_count          70\n",
       "19                    have_e          56\n",
       "49                 time_days          45\n",
       "5              yearly_income          32\n",
       "62          st_interest_rate          25\n",
       "61               st_interest          25\n",
       "16                    have_b          19\n",
       "2                 birth_year          11\n",
       "36              purpose_대환대출          10\n",
       "80      loanapply_insert_ohu          10"
      ]
     },
     "execution_count": 56,
     "metadata": {},
     "output_type": "execute_result"
    }
   ],
   "source": [
    "# Feature importance가 10 이상인 Feature들만 사용\n",
    "top32_feature = pd.DataFrame({'name': lgbm_tune.feature_name_, 'importance':lgbm_tune.feature_importances_}).sort_values(by='importance', ascending=False).query('importance>=10')\n",
    "top32_feature"
   ]
  },
  {
   "cell_type": "code",
   "execution_count": 57,
   "id": "c25e59f2",
   "metadata": {},
   "outputs": [
    {
     "data": {
      "text/plain": [
       "array(['event_count', 'loanapply_insert_weekday', 'loanapply_insert_hour',\n",
       "       'existing_loan_cnt', 'company_enter_month', 'credit_score_f',\n",
       "       'product_applied', 'credit_score', 'desired_amount_rate',\n",
       "       'loan_rate', 'most_week', 'continuous_use', 'bank_applied',\n",
       "       'over_credit_interest', 'over_interest', 'line_app_applied',\n",
       "       'event_nunique', 'purpose_생활비', 'desired_amount_YN',\n",
       "       'desired_amount', 'loan_limit', 'have_c', 'visit_count', 'have_e',\n",
       "       'time_days', 'yearly_income', 'st_interest_rate', 'st_interest',\n",
       "       'have_b', 'birth_year', 'purpose_대환대출', 'loanapply_insert_ohu'],\n",
       "      dtype=object)"
      ]
     },
     "execution_count": 57,
     "metadata": {},
     "output_type": "execute_result"
    }
   ],
   "source": [
    "top32_feature.name.unique()"
   ]
  },
  {
   "cell_type": "code",
   "execution_count": 63,
   "id": "3339b723",
   "metadata": {},
   "outputs": [],
   "source": [
    "# feature importance가 10이상인 32개의 feature로 다시 만든 train, test 데이터\n",
    "X_train2 = X_train[top32_feature.name.unique()]\n",
    "X_dev2 = X_dev[top32_feature.name.unique()]\n",
    "test2 = test[top32_feature.name.unique()]"
   ]
  },
  {
   "cell_type": "code",
   "execution_count": 67,
   "id": "4bfa42f5",
   "metadata": {},
   "outputs": [
    {
     "data": {
      "text/plain": [
       "LGBMClassifier(colsample_bytree=0.7655760546960592,\n",
       "               learning_rate=0.009005688196459308, max_depth=15,\n",
       "               min_child_samples=35, n_estimators=835, num_leaves=12,\n",
       "               subsample=0.9576877183984386)"
      ]
     },
     "execution_count": 67,
     "metadata": {},
     "output_type": "execute_result"
    }
   ],
   "source": [
    "lgbm_tune3 = LGBMClassifier(**max_lgbm, n_jobs=-1)\n",
    "lgbm_tune3.fit(X_train2, y_train)"
   ]
  },
  {
   "cell_type": "code",
   "execution_count": 69,
   "id": "4649a0a8",
   "metadata": {},
   "outputs": [],
   "source": [
    "lgbm_tune3_pred = lgbm_tune3.predict(X_dev2)\n",
    "lgbm_tune3_proba = lgbm_tune3.predict_proba(X_dev2)[:,1]"
   ]
  },
  {
   "cell_type": "code",
   "execution_count": 70,
   "id": "c4b20b08",
   "metadata": {},
   "outputs": [
    {
     "name": "stdout",
     "output_type": "stream",
     "text": [
      "              precision    recall  f1-score   support\n",
      "\n",
      "           0       0.96      0.92      0.94   3376196\n",
      "           1       0.24      0.43      0.31    201121\n",
      "\n",
      "    accuracy                           0.89   3577317\n",
      "   macro avg       0.60      0.67      0.62   3577317\n",
      "weighted avg       0.92      0.89      0.91   3577317\n",
      "\n"
     ]
    }
   ],
   "source": [
    "print(classification_report(y_dev, lgbm_tune3_pred))"
   ]
  },
  {
   "cell_type": "code",
   "execution_count": 71,
   "id": "a2f9b8e2",
   "metadata": {},
   "outputs": [
    {
     "name": "stdout",
     "output_type": "stream",
     "text": [
      "f1 score :  0.3085352241667978\n",
      "precision score :  0.2409513671782235\n",
      "recall score :  0.4288115114781649\n",
      "rocauc :  0.8340420112998906\n",
      "[[3104512  271684]\n",
      " [ 114878   86243]]\n"
     ]
    }
   ],
   "source": [
    "print('f1 score : ', f1_score(y_dev, lgbm_tune3_pred))\n",
    "print('precision score : ', precision_score(y_dev, lgbm_tune3_pred))\n",
    "print('recall score : ', recall_score(y_dev, lgbm_tune3_pred))\n",
    "print('rocauc : ', roc_auc_score(y_dev,lgbm_tune3_proba))\n",
    "\n",
    "print(confusion_matrix(y_dev,lgbm_tune3_pred))"
   ]
  },
  {
   "cell_type": "markdown",
   "id": "94dc99c8",
   "metadata": {},
   "source": [
    "Feature Extract를 통해 모델을 돌려보았지만, 성능의 향상 X -> 그대로 Feature 사용!"
   ]
  },
  {
   "cell_type": "markdown",
   "id": "f76bd472",
   "metadata": {},
   "source": [
    "### ExtraTree"
   ]
  },
  {
   "cell_type": "code",
   "execution_count": 34,
   "id": "830bc3c2",
   "metadata": {
    "scrolled": true
   },
   "outputs": [
    {
     "data": {
      "text/plain": [
       "ExtraTreesClassifier(n_jobs=-1, random_state=2020)"
      ]
     },
     "execution_count": 34,
     "metadata": {},
     "output_type": "execute_result"
    }
   ],
   "source": [
    "# 모델이 너무 커지는 관계로 튜닝은 X\n",
    "et_tune = ExtraTreesClassifier(random_state = 2020, n_jobs=-1)\n",
    "et_tune.fit(X_train, y_train)"
   ]
  },
  {
   "cell_type": "code",
   "execution_count": 35,
   "id": "619320dd",
   "metadata": {},
   "outputs": [],
   "source": [
    "et_tune_pred = et_tune.predict(X_dev)\n",
    "et_tune_proba = et_tune.predict_proba(X_dev)[:,1]"
   ]
  },
  {
   "cell_type": "code",
   "execution_count": 36,
   "id": "19a9a206",
   "metadata": {},
   "outputs": [
    {
     "name": "stdout",
     "output_type": "stream",
     "text": [
      "              precision    recall  f1-score   support\n",
      "\n",
      "           0       0.96      0.94      0.95   3376196\n",
      "           1       0.26      0.35      0.30    201121\n",
      "\n",
      "    accuracy                           0.91   3577317\n",
      "   macro avg       0.61      0.65      0.62   3577317\n",
      "weighted avg       0.92      0.91      0.91   3577317\n",
      "\n"
     ]
    }
   ],
   "source": [
    "print(classification_report(y_dev, et_tune_pred))"
   ]
  },
  {
   "cell_type": "code",
   "execution_count": 37,
   "id": "0e5862ef",
   "metadata": {},
   "outputs": [
    {
     "name": "stdout",
     "output_type": "stream",
     "text": [
      "f1 score :  0.2976163147416178\n",
      "precision score :  0.25644391536865274\n",
      "recall score :  0.3545378155438766\n",
      "rocauc :  0.8345415549155852\n",
      "[[3169448  206748]\n",
      " [ 129816   71305]]\n"
     ]
    }
   ],
   "source": [
    "print('f1 score : ', f1_score(y_dev, et_tune_pred))\n",
    "print('precision score : ', precision_score(y_dev, et_tune_pred))\n",
    "print('recall score : ', recall_score(y_dev, et_tune_pred))\n",
    "print('rocauc : ', roc_auc_score(y_dev,et_tune_proba))\n",
    "\n",
    "\n",
    "print(confusion_matrix(y_dev,et_tune_pred))"
   ]
  },
  {
   "cell_type": "code",
   "execution_count": 38,
   "id": "05ff7b13",
   "metadata": {
    "collapsed": true
   },
   "outputs": [
    {
     "ename": "IndexError",
     "evalue": "list index out of range",
     "output_type": "error",
     "traceback": [
      "\u001b[0;31m---------------------------------------------------------------------------\u001b[0m",
      "\u001b[0;31mIndexError\u001b[0m                                Traceback (most recent call last)",
      "\u001b[0;32m/tmp/ipykernel_302/3722966619.py\u001b[0m in \u001b[0;36m<module>\u001b[0;34m\u001b[0m\n\u001b[1;32m      3\u001b[0m                    \u001b[0met_tune\u001b[0m\u001b[0;34m,\u001b[0m\u001b[0;34m\u001b[0m\u001b[0;34m\u001b[0m\u001b[0m\n\u001b[1;32m      4\u001b[0m                    f1_score(y_dev, et_tune_pred)))\n\u001b[0;32m----> 5\u001b[0;31m \u001b[0mclfs_tuned\u001b[0m\u001b[0;34m[\u001b[0m\u001b[0;36m2\u001b[0m\u001b[0;34m]\u001b[0m\u001b[0;34m\u001b[0m\u001b[0;34m\u001b[0m\u001b[0m\n\u001b[0m",
      "\u001b[0;31mIndexError\u001b[0m: list index out of range"
     ]
    }
   ],
   "source": [
    "# threshold 0.5\n",
    "clfs_tuned.append((type(et_tune).__name__, \n",
    "                   et_tune, \n",
    "                   f1_score(y_dev, et_tune_pred)))"
   ]
  },
  {
   "cell_type": "code",
   "execution_count": 39,
   "id": "d9176367",
   "metadata": {},
   "outputs": [
    {
     "data": {
      "text/plain": [
       "('ExtraTreesClassifier',\n",
       " ExtraTreesClassifier(n_jobs=-1, random_state=2020),\n",
       " 0.2976163147416178)"
      ]
     },
     "execution_count": 39,
     "metadata": {},
     "output_type": "execute_result"
    }
   ],
   "source": [
    "clfs_tuned[1]"
   ]
  },
  {
   "cell_type": "markdown",
   "id": "8bca5ff0",
   "metadata": {},
   "source": [
    "### CatBoost"
   ]
  },
  {
   "cell_type": "code",
   "execution_count": 72,
   "id": "b1312294",
   "metadata": {},
   "outputs": [
    {
     "name": "stdout",
     "output_type": "stream",
     "text": [
      "Learning rate set to 0.078787\n",
      "0:\tlearn: 0.7601230\ttest: 0.1841165\tbest: 0.1841165 (0)\ttotal: 982ms\tremaining: 4h 54m 35s\n",
      "100:\tlearn: 0.9285732\ttest: 0.2913982\tbest: 0.3062567 (60)\ttotal: 48.9s\tremaining: 2h 24m 23s\n",
      "200:\tlearn: 0.9415250\ttest: 0.2654555\tbest: 0.3062567 (60)\ttotal: 1m 31s\tremaining: 2h 15m 19s\n",
      "300:\tlearn: 0.9504289\ttest: 0.2651856\tbest: 0.3062567 (60)\ttotal: 2m 14s\tremaining: 2h 11m 58s\n",
      "Stopped by overfitting detector  (300 iterations wait)\n",
      "\n",
      "bestTest = 0.3062566808\n",
      "bestIteration = 60\n",
      "\n",
      "Shrink model to first 61 iterations.\n"
     ]
    },
    {
     "data": {
      "text/plain": [
       "<catboost.core.CatBoostClassifier at 0x7fa3d2f6a0d0>"
      ]
     },
     "execution_count": 72,
     "metadata": {},
     "output_type": "execute_result"
    }
   ],
   "source": [
    "cat_model=CatBoostClassifier(random_state=2020,iterations=18000,depth=3,eval_metric=\"F1\") # learning rate = 0.078787\n",
    "\n",
    "cat_model.fit(X_train, y_train, \n",
    "            eval_set=[(X_dev, y_dev)], \n",
    "            early_stopping_rounds=300 ,\n",
    "            verbose = 100)"
   ]
  },
  {
   "cell_type": "code",
   "execution_count": 73,
   "id": "87c35472",
   "metadata": {},
   "outputs": [],
   "source": [
    "cat_model_pred = cat_model.predict(X_dev)\n",
    "cat_model_proba = cat_model.predict_proba(X_dev)[:,1]"
   ]
  },
  {
   "cell_type": "code",
   "execution_count": 74,
   "id": "14a466d7",
   "metadata": {},
   "outputs": [
    {
     "name": "stdout",
     "output_type": "stream",
     "text": [
      "              precision    recall  f1-score   support\n",
      "\n",
      "           0       0.96      0.92      0.94   3376196\n",
      "           1       0.24      0.43      0.31    201121\n",
      "\n",
      "    accuracy                           0.89   3577317\n",
      "   macro avg       0.60      0.67      0.62   3577317\n",
      "weighted avg       0.92      0.89      0.90   3577317\n",
      "\n"
     ]
    }
   ],
   "source": [
    "print(classification_report(y_dev, cat_model_pred))"
   ]
  },
  {
   "cell_type": "code",
   "execution_count": 75,
   "id": "46aa6bc9",
   "metadata": {},
   "outputs": [
    {
     "name": "stdout",
     "output_type": "stream",
     "text": [
      "f1 score :  0.30625668081929075\n",
      "precision score :  0.23710516556869246\n",
      "recall score :  0.4323516688958388\n",
      "rocauc :  0.8298458817416323\n",
      "[[3096415  279781]\n",
      " [ 114166   86955]]\n"
     ]
    }
   ],
   "source": [
    "print('f1 score : ', f1_score(y_dev, cat_model_pred))\n",
    "print('precision score : ', precision_score(y_dev, cat_model_pred))\n",
    "print('recall score : ', recall_score(y_dev, cat_model_pred))\n",
    "print('rocauc : ', roc_auc_score(y_dev,cat_model_proba))\n",
    "\n",
    "\n",
    "print(confusion_matrix(y_dev,cat_model_pred))"
   ]
  },
  {
   "cell_type": "code",
   "execution_count": 76,
   "id": "52ba9822",
   "metadata": {},
   "outputs": [
    {
     "data": {
      "text/plain": [
       "('CatBoostClassifier',\n",
       " <catboost.core.CatBoostClassifier at 0x7fa3d2f6a0d0>,\n",
       " 0.30625668081929075)"
      ]
     },
     "execution_count": 76,
     "metadata": {},
     "output_type": "execute_result"
    }
   ],
   "source": [
    "# threshold 0.5\n",
    "clfs_tuned.append((type(cat_model).__name__, \n",
    "                   cat_model, \n",
    "                   f1_score(y_dev, cat_model_pred)))\n",
    "clfs_tuned[2]"
   ]
  },
  {
   "cell_type": "markdown",
   "id": "fd181b9c",
   "metadata": {},
   "source": [
    "### Ensemble"
   ]
  },
  {
   "cell_type": "code",
   "execution_count": 77,
   "id": "5c8f1e71",
   "metadata": {},
   "outputs": [
    {
     "data": {
      "image/png": "[encoded data removed]",
      "text/plain": [
       "<Figure size 576x432 with 2 Axes>"
      ]
     },
     "metadata": {},
     "output_type": "display_data"
    }
   ],
   "source": [
    "# 모델간 상관관계\n",
    "pred_results = []\n",
    "for name, clf, clf_score in clfs_tuned:\n",
    "    pred = clf.predict_proba(X_dev)[:,1]\n",
    "    name = f'{name} \\n({clf_score:.4f})'\n",
    "    pred_results.append(pd.Series(pred, name=name))\n",
    "ensemble_results = pd.concat(pred_results, axis=1)\n",
    "\n",
    "plt.figure(figsize = (8,6))\n",
    "g = sns.heatmap(ensemble_results.corr(), annot=True, cmap='Blues')\n",
    "g.set_title(\"Correlation between models\")\n",
    "plt.show()"
   ]
  },
  {
   "cell_type": "code",
   "execution_count": 110,
   "id": "31ae09dc",
   "metadata": {},
   "outputs": [
    {
     "data": {
      "text/plain": [
       "101"
      ]
     },
     "execution_count": 110,
     "metadata": {},
     "output_type": "execute_result"
    }
   ],
   "source": [
    "import gc\n",
    "gc.collect()"
   ]
  },
  {
   "cell_type": "code",
   "execution_count": 104,
   "id": "8a2cf75a",
   "metadata": {},
   "outputs": [
    {
     "data": {
      "text/plain": [
       "['../model/cat_model.pkl']"
      ]
     },
     "execution_count": 104,
     "metadata": {},
     "output_type": "execute_result"
    }
   ],
   "source": [
    "# 모델 피클 저장\n",
    "import joblib\n",
    "\n",
    "joblib.dump(lgbm_tune, '../model/lgbm_tune.pkl')\n",
    "joblib.dump(et_tune, '../model/et_tune.pkl')\n",
    "joblib.dump(cat_model, '../model/cat_model.pkl')"
   ]
  },
  {
   "cell_type": "markdown",
   "id": "23068699",
   "metadata": {},
   "source": [
    "---"
   ]
  },
  {
   "cell_type": "markdown",
   "id": "784a3b28",
   "metadata": {},
   "source": [
    "### 3가지 모델 Ensemble\n",
    "\n",
    "각각의 모델로 예측한 결과를 predict_proba하여 확률을 앙상블한 후 나온 최종 확률을 threshold 0.5를 기준으로 0, 1로 예측"
   ]
  },
  {
   "cell_type": "code",
   "execution_count": 17,
   "id": "7437a7cf",
   "metadata": {},
   "outputs": [],
   "source": [
    "import joblib\n",
    "\n",
    "# 저장된 모델 불러오기\n",
    "lgbm_tune = joblib.load('../model/lgbm_tune.pkl')\n",
    "et_tune = joblib.load('../model/et_tune.pkl')\n",
    "cat_model = joblib.load('../model/cat_model.pkl')"
   ]
  },
  {
   "cell_type": "code",
   "execution_count": 18,
   "id": "67b4e363",
   "metadata": {},
   "outputs": [
    {
     "data": {
      "text/plain": [
       "((6487714, 81), (3577317, 81), (6487714,), (3577317,))"
      ]
     },
     "execution_count": 18,
     "metadata": {},
     "output_type": "execute_result"
    }
   ],
   "source": [
    "X_train.shape, X_dev.shape, y_train.shape, y_dev.shape"
   ]
  },
  {
   "cell_type": "code",
   "execution_count": 19,
   "id": "0866dc13",
   "metadata": {},
   "outputs": [],
   "source": [
    "lgbm_proba = lgbm_tune.predict_proba(X_dev)[:,1]\n",
    "et_proba = et_tune.predict_proba(X_dev)[:,1]\n",
    "cat_proba = cat_model.predict_proba(X_dev)[:,1]"
   ]
  },
  {
   "cell_type": "markdown",
   "id": "48cf31ab",
   "metadata": {},
   "source": [
    "**휴리스틱한 방법으로 최적의 조합 찾기**"
   ]
  },
  {
   "cell_type": "markdown",
   "id": "e08147e5",
   "metadata": {},
   "source": [
    "lgbm_proba 0.4, et_proba 0.25, cat_proba 0.35일 때 최적의 조합!"
   ]
  },
  {
   "cell_type": "code",
   "execution_count": 134,
   "id": "634f8af4",
   "metadata": {},
   "outputs": [
    {
     "data": {
      "text/plain": [
       "array([0.36758053, 0.4375083 , 0.43252504, ..., 0.22773896, 0.17068712,\n",
       "       0.07133656])"
      ]
     },
     "execution_count": 134,
     "metadata": {},
     "output_type": "execute_result"
    }
   ],
   "source": [
    "model3_proba = lgbm_proba*0.4+et_proba*0.25+cat_proba*0.35\n",
    "model3_proba"
   ]
  },
  {
   "cell_type": "code",
   "execution_count": 135,
   "id": "641f6844",
   "metadata": {},
   "outputs": [
    {
     "data": {
      "text/plain": [
       "0          0\n",
       "1          0\n",
       "2          0\n",
       "3          1\n",
       "4          1\n",
       "          ..\n",
       "3577312    0\n",
       "3577313    0\n",
       "3577314    0\n",
       "3577315    0\n",
       "3577316    0\n",
       "Name: 0, Length: 3577317, dtype: int64"
      ]
     },
     "execution_count": 135,
     "metadata": {},
     "output_type": "execute_result"
    }
   ],
   "source": [
    "model3_pred = pd.DataFrame(model3_proba)[0].apply(lambda x : 1 if x>0.45 else 0)\n",
    "model3_pred"
   ]
  },
  {
   "cell_type": "code",
   "execution_count": 136,
   "id": "ce66f4ba",
   "metadata": {},
   "outputs": [
    {
     "name": "stdout",
     "output_type": "stream",
     "text": [
      "              precision    recall  f1-score   support\n",
      "\n",
      "           0       0.97      0.90      0.93   3376196\n",
      "           1       0.23      0.52      0.32    201121\n",
      "\n",
      "    accuracy                           0.87   3577317\n",
      "   macro avg       0.60      0.71      0.62   3577317\n",
      "weighted avg       0.93      0.87      0.90   3577317\n",
      "\n"
     ]
    }
   ],
   "source": [
    "from sklearn.metrics import classification_report\n",
    "print(classification_report(y_dev, model3_pred))"
   ]
  },
  {
   "cell_type": "code",
   "execution_count": 137,
   "id": "7527e816",
   "metadata": {},
   "outputs": [
    {
     "data": {
      "text/plain": [
       "0.8422315842667519"
      ]
     },
     "execution_count": 137,
     "metadata": {},
     "output_type": "execute_result"
    }
   ],
   "source": [
    "roc_auc_score(y_dev, model3_proba)"
   ]
  },
  {
   "cell_type": "code",
   "execution_count": 140,
   "id": "535d4a24",
   "metadata": {},
   "outputs": [
    {
     "name": "stdout",
     "output_type": "stream",
     "text": [
      "0.31814024669077073\n"
     ]
    }
   ],
   "source": [
    "print(f1_score(y_dev, model3_pred))"
   ]
  },
  {
   "cell_type": "markdown",
   "id": "9fd628f0",
   "metadata": {},
   "source": [
    "**휴리스틱한 방법으로 ensemble비율, threshold값을 바꾸어본 결과 위 결과에서 가장 높은 점수를 얻을 수 있었다.**"
   ]
  },
  {
   "cell_type": "markdown",
   "id": "669db74b",
   "metadata": {},
   "source": [
    "## 위와 같은 방식으로 5월 데이터 -> 6월 test 데이터 예측을 수행한다."
   ]
  },
  {
   "cell_type": "code",
   "execution_count": 8,
   "id": "0e84fc77",
   "metadata": {},
   "outputs": [
    {
     "data": {
      "text/plain": [
       "((3577317, 81), (3577317,), (3255476, 81))"
      ]
     },
     "execution_count": 8,
     "metadata": {},
     "output_type": "execute_result"
    }
   ],
   "source": [
    "X_dev.shape, y_dev.shape, test.shape"
   ]
  },
  {
   "cell_type": "markdown",
   "id": "525a3f6c",
   "metadata": {},
   "source": [
    "### 1. OverSampling & Scaling\n",
    "\n",
    "5월 데이터 또한 4월 데이터로 학습했던 과정에 맞게 SMOTE를 진행\\!  \n",
    "기존의 값이 Scaling이 되어있어 다른 처리는 X"
   ]
  },
  {
   "cell_type": "code",
   "execution_count": null,
   "id": "a0b75719",
   "metadata": {},
   "outputs": [],
   "source": [
    "from imblearn.over_sampling import SMOTE"
   ]
  },
  {
   "cell_type": "code",
   "execution_count": 10,
   "id": "f6136484",
   "metadata": {},
   "outputs": [],
   "source": [
    "smote = SMOTE(random_state=2020)\n",
    "X_dev_over, y_dev_over = smote.fit_resample(X_dev, y_dev)"
   ]
  },
  {
   "cell_type": "code",
   "execution_count": 11,
   "id": "92c36169",
   "metadata": {},
   "outputs": [
    {
     "data": {
      "text/plain": [
       "((3577317, 81), (3577317,), (3255476, 81))"
      ]
     },
     "execution_count": 11,
     "metadata": {},
     "output_type": "execute_result"
    }
   ],
   "source": [
    "X_dev_over.shape, y_dev_over.shape, test.shape"
   ]
  },
  {
   "cell_type": "markdown",
   "id": "55f64cb9",
   "metadata": {},
   "source": [
    "### 2. Modeling"
   ]
  },
  {
   "cell_type": "code",
   "execution_count": 15,
   "id": "8b160d62",
   "metadata": {},
   "outputs": [],
   "source": [
    "# 모델 피클 저장\n",
    "import joblib"
   ]
  },
  {
   "cell_type": "markdown",
   "id": "d2608342",
   "metadata": {},
   "source": [
    "#### lgbm"
   ]
  },
  {
   "cell_type": "code",
   "execution_count": 12,
   "id": "b5fbd056",
   "metadata": {},
   "outputs": [],
   "source": [
    "max_lgbm = {'learning_rate': 0.009005688196459308,\n",
    " 'n_estimators': 835,\n",
    " 'max_depth': 15,\n",
    " 'subsample': 0.9576877183984386,\n",
    " 'colsample_bytree': 0.7655760546960592,\n",
    " 'min_child_samples': 35,\n",
    " 'num_leaves': 12}"
   ]
  },
  {
   "cell_type": "code",
   "execution_count": 13,
   "id": "6d9cb21c",
   "metadata": {},
   "outputs": [
    {
     "data": {
      "text/plain": [
       "LGBMClassifier(boosting_type='gbdt', class_weight=None,\n",
       "               colsample_bytree=0.7655760546960592, importance_type='split',\n",
       "               learning_rate=0.009005688196459308, max_depth=15,\n",
       "               min_child_samples=35, min_child_weight=0.001, min_split_gain=0.0,\n",
       "               n_estimators=835, n_jobs=-1, num_leaves=12, objective=None,\n",
       "               random_state=None, reg_alpha=0.0, reg_lambda=0.0, silent=True,\n",
       "               subsample=0.9576877183984386, subsample_for_bin=200000,\n",
       "               subsample_freq=0)"
      ]
     },
     "execution_count": 13,
     "metadata": {},
     "output_type": "execute_result"
    }
   ],
   "source": [
    "lgbm_final = LGBMClassifier(**max_lgbm, n_jobs=-1)\n",
    "lgbm_final.fit(X_dev_over, y_dev_over)"
   ]
  },
  {
   "cell_type": "code",
   "execution_count": 16,
   "id": "2090b52c",
   "metadata": {},
   "outputs": [
    {
     "data": {
      "text/plain": [
       "['../model/lgbm_final.pkl']"
      ]
     },
     "execution_count": 16,
     "metadata": {},
     "output_type": "execute_result"
    }
   ],
   "source": [
    "joblib.dump(lgbm_final, '../model/lgbm_final.pkl')"
   ]
  },
  {
   "cell_type": "code",
   "execution_count": 5,
   "id": "3de84ecc",
   "metadata": {},
   "outputs": [],
   "source": [
    "import joblib\n",
    "\n",
    "# 저장된 모델 불러오기\n",
    "lgbm_final = joblib.load('../model/lgbm_final.pkl')"
   ]
  },
  {
   "cell_type": "code",
   "execution_count": 6,
   "id": "2d5132f3",
   "metadata": {},
   "outputs": [],
   "source": [
    "lgbm_final_pred = lgbm_final.predict(test)\n",
    "lgbm_final_proba = lgbm_final.predict_proba(test)[:,1]"
   ]
  },
  {
   "cell_type": "code",
   "execution_count": 7,
   "id": "a7970b96",
   "metadata": {},
   "outputs": [
    {
     "data": {
      "text/plain": [
       "array([1, 0, 0, ..., 0, 0, 0])"
      ]
     },
     "execution_count": 7,
     "metadata": {},
     "output_type": "execute_result"
    }
   ],
   "source": [
    "lgbm_final_pred"
   ]
  },
  {
   "cell_type": "markdown",
   "id": "4bf5b377",
   "metadata": {},
   "source": [
    "#### ExtraTree"
   ]
  },
  {
   "cell_type": "code",
   "execution_count": 17,
   "id": "c05da12c",
   "metadata": {},
   "outputs": [
    {
     "data": {
      "text/plain": [
       "ExtraTreesClassifier(bootstrap=False, ccp_alpha=0.0, class_weight=None,\n",
       "                     criterion='gini', max_depth=None, max_features='auto',\n",
       "                     max_leaf_nodes=None, max_samples=None,\n",
       "                     min_impurity_decrease=0.0, min_impurity_split=None,\n",
       "                     min_samples_leaf=1, min_samples_split=2,\n",
       "                     min_weight_fraction_leaf=0.0, n_estimators=100, n_jobs=-1,\n",
       "                     oob_score=False, random_state=2020, verbose=0,\n",
       "                     warm_start=False)"
      ]
     },
     "execution_count": 17,
     "metadata": {},
     "output_type": "execute_result"
    }
   ],
   "source": [
    "et_final = ExtraTreesClassifier(random_state = 2020, n_jobs=-1)\n",
    "et_final.fit(X_dev_over, y_dev_over)"
   ]
  },
  {
   "cell_type": "code",
   "execution_count": 18,
   "id": "62f287f3",
   "metadata": {},
   "outputs": [
    {
     "data": {
      "text/plain": [
       "['../model/et_final.pkl']"
      ]
     },
     "execution_count": 18,
     "metadata": {},
     "output_type": "execute_result"
    }
   ],
   "source": [
    "joblib.dump(et_final, '../model/et_final.pkl')"
   ]
  },
  {
   "cell_type": "code",
   "execution_count": 8,
   "id": "b46612fc",
   "metadata": {},
   "outputs": [],
   "source": [
    "et_final = joblib.load('../model/et_final.pkl')"
   ]
  },
  {
   "cell_type": "code",
   "execution_count": 9,
   "id": "27d6eed4",
   "metadata": {},
   "outputs": [],
   "source": [
    "et_final_pred = et_final.predict(test)\n",
    "et_final_proba = et_final.predict_proba(test)[:,1]"
   ]
  },
  {
   "cell_type": "markdown",
   "id": "822d0bad",
   "metadata": {},
   "source": [
    "#### CatBoost"
   ]
  },
  {
   "cell_type": "code",
   "execution_count": null,
   "id": "8b8265a5",
   "metadata": {},
   "outputs": [],
   "source": [
    "cat_final=CatBoostClassifier(random_state=2020,iterations=18000,depth=3,eval_metric=\"F1\") # learning rate = 0.078787\n",
    "\n",
    "cat_final.fit(X_dev_over, y_dev_over, \n",
    "            eval_set=[(X_dev, y_dev)], # 평가 데이터 정답이 없으므로 어쩔수없이 자기자신으로 예측 \n",
    "            early_stopping_rounds=300 ,\n",
    "            verbose = 100)"
   ]
  },
  {
   "cell_type": "code",
   "execution_count": null,
   "id": "e5d33d92",
   "metadata": {},
   "outputs": [],
   "source": [
    "joblib.dump(cat_final, '../model/cat_final.pkl')"
   ]
  },
  {
   "cell_type": "code",
   "execution_count": 40,
   "id": "04fce387",
   "metadata": {},
   "outputs": [],
   "source": [
    "cat_final = joblib.load('../model/cat_final.pkl')"
   ]
  },
  {
   "cell_type": "code",
   "execution_count": 41,
   "id": "96ca0961",
   "metadata": {},
   "outputs": [],
   "source": [
    "cat_final_pred = cat_final.predict(test)\n",
    "cat_final_proba = cat_final.predict_proba(test)[:,1]"
   ]
  },
  {
   "cell_type": "code",
   "execution_count": 42,
   "id": "f89b802f",
   "metadata": {},
   "outputs": [
    {
     "data": {
      "text/plain": [
       "array([1, 0, 1, ..., 0, 0, 0])"
      ]
     },
     "execution_count": 42,
     "metadata": {},
     "output_type": "execute_result"
    }
   ],
   "source": [
    "cat_final_pred"
   ]
  },
  {
   "cell_type": "markdown",
   "id": "846fd3f9",
   "metadata": {},
   "source": [
    "### 3. Ensemble\n",
    "\n",
    "lgbm_proba 0.4, et_proba 0.25, cat_proba 0.35일 때 최적의 조합\\!  \n",
    "threshold는 0.45!!"
   ]
  },
  {
   "cell_type": "code",
   "execution_count": 43,
   "id": "3974ebad",
   "metadata": {},
   "outputs": [
    {
     "data": {
      "text/plain": [
       "array([0.73622854, 0.37769241, 0.43814718, ..., 0.263107  , 0.04414416,\n",
       "       0.15057956])"
      ]
     },
     "execution_count": 43,
     "metadata": {},
     "output_type": "execute_result"
    }
   ],
   "source": [
    "# train과정의 비율 사용\n",
    "final_proba = lgbm_final_proba*0.4+et_final_proba*0.25+cat_final_proba*0.35\n",
    "final_proba"
   ]
  },
  {
   "cell_type": "code",
   "execution_count": 44,
   "id": "f31656f6",
   "metadata": {},
   "outputs": [
    {
     "data": {
      "text/plain": [
       "0          1\n",
       "1          0\n",
       "2          0\n",
       "3          0\n",
       "4          0\n",
       "          ..\n",
       "3255471    0\n",
       "3255472    0\n",
       "3255473    0\n",
       "3255474    0\n",
       "3255475    0\n",
       "Name: 0, Length: 3255476, dtype: int64"
      ]
     },
     "execution_count": 44,
     "metadata": {},
     "output_type": "execute_result"
    }
   ],
   "source": [
    "final_pred = pd.DataFrame(final_proba)[0].apply(lambda x : 1 if x>0.45 else 0)\n",
    "final_pred"
   ]
  },
  {
   "cell_type": "code",
   "execution_count": 45,
   "id": "81a4a288",
   "metadata": {},
   "outputs": [
    {
     "data": {
      "text/plain": [
       "0    2874793\n",
       "1     380683\n",
       "Name: 0, dtype: int64"
      ]
     },
     "execution_count": 45,
     "metadata": {},
     "output_type": "execute_result"
    }
   ],
   "source": [
    "final_pred.value_counts()"
   ]
  },
  {
   "cell_type": "code",
   "execution_count": 50,
   "id": "243dcd95",
   "metadata": {},
   "outputs": [],
   "source": [
    "final_sub = pd.DataFrame(final_pred)\n",
    "final_sub.columns = ['is_applied']"
   ]
  },
  {
   "cell_type": "code",
   "execution_count": 54,
   "id": "3cd78d07",
   "metadata": {},
   "outputs": [],
   "source": [
    "final_sub.to_csv('final_pred_lgbm_et_cat.csv', index=False)"
   ]
  },
  {
   "cell_type": "markdown",
   "id": "06b65cf6",
   "metadata": {},
   "source": [
    "### 4. Test데이터 정리"
   ]
  },
  {
   "cell_type": "code",
   "execution_count": 46,
   "id": "ee046af1",
   "metadata": {
    "collapsed": true
   },
   "outputs": [
    {
     "data": {
      "text/html": [
       "<div>\n",
       "<style scoped>\n",
       "    .dataframe tbody tr th:only-of-type {\n",
       "        vertical-align: middle;\n",
       "    }\n",
       "\n",
       "    .dataframe tbody tr th {\n",
       "        vertical-align: top;\n",
       "    }\n",
       "\n",
       "    .dataframe thead th {\n",
       "        text-align: right;\n",
       "    }\n",
       "</style>\n",
       "<table border=\"1\" class=\"dataframe\">\n",
       "  <thead>\n",
       "    <tr style=\"text-align: right;\">\n",
       "      <th></th>\n",
       "      <th>application_id</th>\n",
       "      <th>product_id</th>\n",
       "      <th>is_applied</th>\n",
       "    </tr>\n",
       "  </thead>\n",
       "  <tbody>\n",
       "    <tr>\n",
       "      <th>0</th>\n",
       "      <td>4</td>\n",
       "      <td>220</td>\n",
       "      <td>NaN</td>\n",
       "    </tr>\n",
       "    <tr>\n",
       "      <th>1</th>\n",
       "      <td>4</td>\n",
       "      <td>191</td>\n",
       "      <td>NaN</td>\n",
       "    </tr>\n",
       "    <tr>\n",
       "      <th>2</th>\n",
       "      <td>8</td>\n",
       "      <td>29</td>\n",
       "      <td>NaN</td>\n",
       "    </tr>\n",
       "    <tr>\n",
       "      <th>3</th>\n",
       "      <td>8</td>\n",
       "      <td>159</td>\n",
       "      <td>NaN</td>\n",
       "    </tr>\n",
       "    <tr>\n",
       "      <th>4</th>\n",
       "      <td>8</td>\n",
       "      <td>85</td>\n",
       "      <td>NaN</td>\n",
       "    </tr>\n",
       "    <tr>\n",
       "      <th>...</th>\n",
       "      <td>...</td>\n",
       "      <td>...</td>\n",
       "      <td>...</td>\n",
       "    </tr>\n",
       "    <tr>\n",
       "      <th>3255189</th>\n",
       "      <td>2167778</td>\n",
       "      <td>258</td>\n",
       "      <td>NaN</td>\n",
       "    </tr>\n",
       "    <tr>\n",
       "      <th>3255190</th>\n",
       "      <td>2167791</td>\n",
       "      <td>29</td>\n",
       "      <td>NaN</td>\n",
       "    </tr>\n",
       "    <tr>\n",
       "      <th>3255191</th>\n",
       "      <td>2167822</td>\n",
       "      <td>149</td>\n",
       "      <td>NaN</td>\n",
       "    </tr>\n",
       "    <tr>\n",
       "      <th>3255192</th>\n",
       "      <td>2167822</td>\n",
       "      <td>157</td>\n",
       "      <td>NaN</td>\n",
       "    </tr>\n",
       "    <tr>\n",
       "      <th>3255193</th>\n",
       "      <td>2167822</td>\n",
       "      <td>65</td>\n",
       "      <td>NaN</td>\n",
       "    </tr>\n",
       "  </tbody>\n",
       "</table>\n",
       "<p>3255194 rows × 3 columns</p>\n",
       "</div>"
      ],
      "text/plain": [
       "         application_id  product_id  is_applied\n",
       "0                     4         220         NaN\n",
       "1                     4         191         NaN\n",
       "2                     8          29         NaN\n",
       "3                     8         159         NaN\n",
       "4                     8          85         NaN\n",
       "...                 ...         ...         ...\n",
       "3255189         2167778         258         NaN\n",
       "3255190         2167791          29         NaN\n",
       "3255191         2167822         149         NaN\n",
       "3255192         2167822         157         NaN\n",
       "3255193         2167822          65         NaN\n",
       "\n",
       "[3255194 rows x 3 columns]"
      ]
     },
     "execution_count": 46,
     "metadata": {},
     "output_type": "execute_result"
    }
   ],
   "source": [
    "submission = pd.read_csv('데이터분석분야_퓨처스부문_평가데이터.csv')\n",
    "submission"
   ]
  },
  {
   "cell_type": "code",
   "execution_count": 88,
   "id": "091eae83",
   "metadata": {
    "collapsed": true
   },
   "outputs": [
    {
     "data": {
      "text/html": [
       "<div>\n",
       "<style scoped>\n",
       "    .dataframe tbody tr th:only-of-type {\n",
       "        vertical-align: middle;\n",
       "    }\n",
       "\n",
       "    .dataframe tbody tr th {\n",
       "        vertical-align: top;\n",
       "    }\n",
       "\n",
       "    .dataframe thead th {\n",
       "        text-align: right;\n",
       "    }\n",
       "</style>\n",
       "<table border=\"1\" class=\"dataframe\">\n",
       "  <thead>\n",
       "    <tr style=\"text-align: right;\">\n",
       "      <th></th>\n",
       "      <th>application_id</th>\n",
       "      <th>product_id</th>\n",
       "    </tr>\n",
       "  </thead>\n",
       "  <tbody>\n",
       "    <tr>\n",
       "      <th>0</th>\n",
       "      <td>4</td>\n",
       "      <td>220</td>\n",
       "    </tr>\n",
       "    <tr>\n",
       "      <th>1</th>\n",
       "      <td>4</td>\n",
       "      <td>191</td>\n",
       "    </tr>\n",
       "    <tr>\n",
       "      <th>2</th>\n",
       "      <td>8</td>\n",
       "      <td>29</td>\n",
       "    </tr>\n",
       "    <tr>\n",
       "      <th>3</th>\n",
       "      <td>8</td>\n",
       "      <td>159</td>\n",
       "    </tr>\n",
       "    <tr>\n",
       "      <th>4</th>\n",
       "      <td>8</td>\n",
       "      <td>85</td>\n",
       "    </tr>\n",
       "    <tr>\n",
       "      <th>...</th>\n",
       "      <td>...</td>\n",
       "      <td>...</td>\n",
       "    </tr>\n",
       "    <tr>\n",
       "      <th>3255189</th>\n",
       "      <td>2167778</td>\n",
       "      <td>258</td>\n",
       "    </tr>\n",
       "    <tr>\n",
       "      <th>3255190</th>\n",
       "      <td>2167791</td>\n",
       "      <td>29</td>\n",
       "    </tr>\n",
       "    <tr>\n",
       "      <th>3255191</th>\n",
       "      <td>2167822</td>\n",
       "      <td>149</td>\n",
       "    </tr>\n",
       "    <tr>\n",
       "      <th>3255192</th>\n",
       "      <td>2167822</td>\n",
       "      <td>157</td>\n",
       "    </tr>\n",
       "    <tr>\n",
       "      <th>3255193</th>\n",
       "      <td>2167822</td>\n",
       "      <td>65</td>\n",
       "    </tr>\n",
       "  </tbody>\n",
       "</table>\n",
       "<p>3255194 rows × 2 columns</p>\n",
       "</div>"
      ],
      "text/plain": [
       "         application_id  product_id\n",
       "0                     4         220\n",
       "1                     4         191\n",
       "2                     8          29\n",
       "3                     8         159\n",
       "4                     8          85\n",
       "...                 ...         ...\n",
       "3255189         2167778         258\n",
       "3255190         2167791          29\n",
       "3255191         2167822         149\n",
       "3255192         2167822         157\n",
       "3255193         2167822          65\n",
       "\n",
       "[3255194 rows x 2 columns]"
      ]
     },
     "execution_count": 88,
     "metadata": {},
     "output_type": "execute_result"
    }
   ],
   "source": [
    "# 최종 sumission생성을 위한 is_applied열 제거\n",
    "submission2 = submission.drop(columns=['is_applied']);submission2"
   ]
  },
  {
   "cell_type": "code",
   "execution_count": 56,
   "id": "744ef295",
   "metadata": {},
   "outputs": [],
   "source": [
    "with gzip.open('../data/value2.pickle','rb') as f:\n",
    "    value2 = pickle.load(f)"
   ]
  },
  {
   "cell_type": "code",
   "execution_count": 70,
   "id": "a1fa35df",
   "metadata": {
    "collapsed": true
   },
   "outputs": [
    {
     "data": {
      "text/html": [
       "<div>\n",
       "<style scoped>\n",
       "    .dataframe tbody tr th:only-of-type {\n",
       "        vertical-align: middle;\n",
       "    }\n",
       "\n",
       "    .dataframe tbody tr th {\n",
       "        vertical-align: top;\n",
       "    }\n",
       "\n",
       "    .dataframe thead th {\n",
       "        text-align: right;\n",
       "    }\n",
       "</style>\n",
       "<table border=\"1\" class=\"dataframe\">\n",
       "  <thead>\n",
       "    <tr style=\"text-align: right;\">\n",
       "      <th></th>\n",
       "      <th>is_applied</th>\n",
       "      <th>application_id</th>\n",
       "      <th>product_id</th>\n",
       "      <th>user_id</th>\n",
       "    </tr>\n",
       "  </thead>\n",
       "  <tbody>\n",
       "    <tr>\n",
       "      <th>0</th>\n",
       "      <td>NaN</td>\n",
       "      <td>1255231</td>\n",
       "      <td>265</td>\n",
       "      <td>694012</td>\n",
       "    </tr>\n",
       "    <tr>\n",
       "      <th>1</th>\n",
       "      <td>NaN</td>\n",
       "      <td>506292</td>\n",
       "      <td>148</td>\n",
       "      <td>669202</td>\n",
       "    </tr>\n",
       "    <tr>\n",
       "      <th>2</th>\n",
       "      <td>NaN</td>\n",
       "      <td>506292</td>\n",
       "      <td>251</td>\n",
       "      <td>669202</td>\n",
       "    </tr>\n",
       "    <tr>\n",
       "      <th>3</th>\n",
       "      <td>NaN</td>\n",
       "      <td>506292</td>\n",
       "      <td>231</td>\n",
       "      <td>669202</td>\n",
       "    </tr>\n",
       "    <tr>\n",
       "      <th>4</th>\n",
       "      <td>NaN</td>\n",
       "      <td>506292</td>\n",
       "      <td>5</td>\n",
       "      <td>669202</td>\n",
       "    </tr>\n",
       "    <tr>\n",
       "      <th>...</th>\n",
       "      <td>...</td>\n",
       "      <td>...</td>\n",
       "      <td>...</td>\n",
       "      <td>...</td>\n",
       "    </tr>\n",
       "    <tr>\n",
       "      <th>3255471</th>\n",
       "      <td>NaN</td>\n",
       "      <td>634459</td>\n",
       "      <td>65</td>\n",
       "      <td>244440</td>\n",
       "    </tr>\n",
       "    <tr>\n",
       "      <th>3255472</th>\n",
       "      <td>NaN</td>\n",
       "      <td>634459</td>\n",
       "      <td>149</td>\n",
       "      <td>244440</td>\n",
       "    </tr>\n",
       "    <tr>\n",
       "      <th>3255473</th>\n",
       "      <td>NaN</td>\n",
       "      <td>634459</td>\n",
       "      <td>231</td>\n",
       "      <td>244440</td>\n",
       "    </tr>\n",
       "    <tr>\n",
       "      <th>3255474</th>\n",
       "      <td>NaN</td>\n",
       "      <td>1288711</td>\n",
       "      <td>267</td>\n",
       "      <td>450880</td>\n",
       "    </tr>\n",
       "    <tr>\n",
       "      <th>3255475</th>\n",
       "      <td>NaN</td>\n",
       "      <td>1288711</td>\n",
       "      <td>176</td>\n",
       "      <td>450880</td>\n",
       "    </tr>\n",
       "  </tbody>\n",
       "</table>\n",
       "<p>3255476 rows × 4 columns</p>\n",
       "</div>"
      ],
      "text/plain": [
       "         is_applied  application_id  product_id  user_id\n",
       "0               NaN         1255231         265   694012\n",
       "1               NaN          506292         148   669202\n",
       "2               NaN          506292         251   669202\n",
       "3               NaN          506292         231   669202\n",
       "4               NaN          506292           5   669202\n",
       "...             ...             ...         ...      ...\n",
       "3255471         NaN          634459          65   244440\n",
       "3255472         NaN          634459         149   244440\n",
       "3255473         NaN          634459         231   244440\n",
       "3255474         NaN         1288711         267   450880\n",
       "3255475         NaN         1288711         176   450880\n",
       "\n",
       "[3255476 rows x 4 columns]"
      ]
     },
     "execution_count": 70,
     "metadata": {},
     "output_type": "execute_result"
    }
   ],
   "source": [
    "pre_sub = value2[2]\n",
    "pre_sub"
   ]
  },
  {
   "cell_type": "code",
   "execution_count": 75,
   "id": "778e59df",
   "metadata": {},
   "outputs": [],
   "source": [
    "pre_sub.is_applied = final_sub.is_applied"
   ]
  },
  {
   "cell_type": "code",
   "execution_count": 84,
   "id": "58419ea7",
   "metadata": {},
   "outputs": [],
   "source": [
    "pre_sub2 = pre_sub[['application_id', 'product_id', 'is_applied']]"
   ]
  },
  {
   "cell_type": "code",
   "execution_count": 91,
   "id": "0d98e181",
   "metadata": {},
   "outputs": [],
   "source": [
    "subsub = pd.merge(submission2, pre_sub2, how='left', on=['application_id', 'product_id'])"
   ]
  },
  {
   "cell_type": "code",
   "execution_count": 93,
   "id": "6ea7a480",
   "metadata": {
    "scrolled": true
   },
   "outputs": [
    {
     "data": {
      "text/html": [
       "<div>\n",
       "<style scoped>\n",
       "    .dataframe tbody tr th:only-of-type {\n",
       "        vertical-align: middle;\n",
       "    }\n",
       "\n",
       "    .dataframe tbody tr th {\n",
       "        vertical-align: top;\n",
       "    }\n",
       "\n",
       "    .dataframe thead th {\n",
       "        text-align: right;\n",
       "    }\n",
       "</style>\n",
       "<table border=\"1\" class=\"dataframe\">\n",
       "  <thead>\n",
       "    <tr style=\"text-align: right;\">\n",
       "      <th></th>\n",
       "      <th>application_id</th>\n",
       "      <th>product_id</th>\n",
       "      <th>is_applied</th>\n",
       "    </tr>\n",
       "  </thead>\n",
       "  <tbody>\n",
       "    <tr>\n",
       "      <th>513253</th>\n",
       "      <td>341149</td>\n",
       "      <td>113</td>\n",
       "      <td>NaN</td>\n",
       "    </tr>\n",
       "    <tr>\n",
       "      <th>513254</th>\n",
       "      <td>341149</td>\n",
       "      <td>254</td>\n",
       "      <td>NaN</td>\n",
       "    </tr>\n",
       "    <tr>\n",
       "      <th>513255</th>\n",
       "      <td>341149</td>\n",
       "      <td>265</td>\n",
       "      <td>NaN</td>\n",
       "    </tr>\n",
       "    <tr>\n",
       "      <th>513256</th>\n",
       "      <td>341149</td>\n",
       "      <td>71</td>\n",
       "      <td>NaN</td>\n",
       "    </tr>\n",
       "    <tr>\n",
       "      <th>513257</th>\n",
       "      <td>341149</td>\n",
       "      <td>262</td>\n",
       "      <td>NaN</td>\n",
       "    </tr>\n",
       "    <tr>\n",
       "      <th>513258</th>\n",
       "      <td>341149</td>\n",
       "      <td>128</td>\n",
       "      <td>NaN</td>\n",
       "    </tr>\n",
       "  </tbody>\n",
       "</table>\n",
       "</div>"
      ],
      "text/plain": [
       "        application_id  product_id  is_applied\n",
       "513253          341149         113         NaN\n",
       "513254          341149         254         NaN\n",
       "513255          341149         265         NaN\n",
       "513256          341149          71         NaN\n",
       "513257          341149         262         NaN\n",
       "513258          341149         128         NaN"
      ]
     },
     "execution_count": 93,
     "metadata": {},
     "output_type": "execute_result"
    }
   ],
   "source": [
    "subsub.query('is_applied.isnull()')"
   ]
  },
  {
   "cell_type": "code",
   "execution_count": 96,
   "id": "2e0fc9ee",
   "metadata": {},
   "outputs": [
    {
     "data": {
      "text/plain": [
       "application_id    0\n",
       "product_id        0\n",
       "is_applied        6\n",
       "dtype: int64"
      ]
     },
     "execution_count": 96,
     "metadata": {},
     "output_type": "execute_result"
    }
   ],
   "source": [
    "subsub.isnull().sum()"
   ]
  },
  {
   "cell_type": "markdown",
   "id": "df19263a",
   "metadata": {},
   "source": [
    "application_id==341149 는 user_spec에서 결측치가 많아 제거한 데이터로 0으로 채워진다!"
   ]
  },
  {
   "cell_type": "code",
   "execution_count": 97,
   "id": "c98b093c",
   "metadata": {},
   "outputs": [],
   "source": [
    "subsub2 = subsub.fillna(0)"
   ]
  },
  {
   "cell_type": "code",
   "execution_count": 106,
   "id": "4a4ce750",
   "metadata": {},
   "outputs": [],
   "source": [
    "subsub2.to_csv('데이터분석분야_퓨처스부문_EZ수고_평가데이터.csv', index=False)"
   ]
  }
 ],
 "metadata": {
  "kernelspec": {
   "display_name": "Python 3 (ipykernel)",
   "language": "python",
   "name": "python3"
  },
  "language_info": {
   "codemirror_mode": {
    "name": "ipython",
    "version": 3
   },
   "file_extension": ".py",
   "mimetype": "text/x-python",
   "name": "python",
   "nbconvert_exporter": "python",
   "pygments_lexer": "ipython3",
   "version": "3.10.6"
  }
 },
 "nbformat": 4,
 "nbformat_minor": 5
}
