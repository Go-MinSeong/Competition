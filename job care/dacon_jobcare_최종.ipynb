{
 "cells": [
  {
   "cell_type": "code",
   "execution_count": null,
   "metadata": {
    "colab": {
     "base_uri": "https://localhost:8080/"
    },
    "executionInfo": {
     "elapsed": 7505,
     "status": "ok",
     "timestamp": 1642086663980,
     "user": {
      "displayName": "Go MinSeong",
      "photoUrl": "https://lh3.googleusercontent.com/a-/AOh14GhPdOgBXoiFXbQiizELbndEiEeylqjMU5E0MLEI-A=s64",
      "userId": "11864151055736086421"
     },
     "user_tz": -540
    },
    "id": "39SE8aOgkDjz",
    "outputId": "afd8f777-bcca-4608-c343-4ead9ee0e977"
   },
   "outputs": [
    {
     "name": "stdout",
     "output_type": "stream",
     "text": [
      "Requirement already satisfied: catboost in /usr/local/lib/python3.7/dist-packages (1.0.3)\n",
      "Requirement already satisfied: matplotlib in /usr/local/lib/python3.7/dist-packages (from catboost) (3.2.2)\n",
      "Requirement already satisfied: graphviz in /usr/local/lib/python3.7/dist-packages (from catboost) (0.10.1)\n",
      "Requirement already satisfied: pandas>=0.24.0 in /usr/local/lib/python3.7/dist-packages (from catboost) (1.1.5)\n",
      "Requirement already satisfied: scipy in /usr/local/lib/python3.7/dist-packages (from catboost) (1.4.1)\n",
      "Requirement already satisfied: six in /usr/local/lib/python3.7/dist-packages (from catboost) (1.15.0)\n",
      "Requirement already satisfied: plotly in /usr/local/lib/python3.7/dist-packages (from catboost) (4.4.1)\n",
      "Requirement already satisfied: numpy>=1.16.0 in /usr/local/lib/python3.7/dist-packages (from catboost) (1.19.5)\n",
      "Requirement already satisfied: python-dateutil>=2.7.3 in /usr/local/lib/python3.7/dist-packages (from pandas>=0.24.0->catboost) (2.8.2)\n",
      "Requirement already satisfied: pytz>=2017.2 in /usr/local/lib/python3.7/dist-packages (from pandas>=0.24.0->catboost) (2018.9)\n",
      "Requirement already satisfied: kiwisolver>=1.0.1 in /usr/local/lib/python3.7/dist-packages (from matplotlib->catboost) (1.3.2)\n",
      "Requirement already satisfied: pyparsing!=2.0.4,!=2.1.2,!=2.1.6,>=2.0.1 in /usr/local/lib/python3.7/dist-packages (from matplotlib->catboost) (3.0.6)\n",
      "Requirement already satisfied: cycler>=0.10 in /usr/local/lib/python3.7/dist-packages (from matplotlib->catboost) (0.11.0)\n",
      "Requirement already satisfied: retrying>=1.3.3 in /usr/local/lib/python3.7/dist-packages (from plotly->catboost) (1.3.3)\n",
      "Requirement already satisfied: optuna in /usr/local/lib/python3.7/dist-packages (2.10.0)\n",
      "Requirement already satisfied: tqdm in /usr/local/lib/python3.7/dist-packages (from optuna) (4.62.3)\n",
      "Requirement already satisfied: colorlog in /usr/local/lib/python3.7/dist-packages (from optuna) (6.6.0)\n",
      "Requirement already satisfied: packaging>=20.0 in /usr/local/lib/python3.7/dist-packages (from optuna) (21.3)\n",
      "Requirement already satisfied: scipy!=1.4.0 in /usr/local/lib/python3.7/dist-packages (from optuna) (1.4.1)\n",
      "Requirement already satisfied: PyYAML in /usr/local/lib/python3.7/dist-packages (from optuna) (3.13)\n",
      "Requirement already satisfied: cliff in /usr/local/lib/python3.7/dist-packages (from optuna) (3.10.0)\n",
      "Requirement already satisfied: numpy in /usr/local/lib/python3.7/dist-packages (from optuna) (1.19.5)\n",
      "Requirement already satisfied: cmaes>=0.8.2 in /usr/local/lib/python3.7/dist-packages (from optuna) (0.8.2)\n",
      "Requirement already satisfied: sqlalchemy>=1.1.0 in /usr/local/lib/python3.7/dist-packages (from optuna) (1.4.29)\n",
      "Requirement already satisfied: alembic in /usr/local/lib/python3.7/dist-packages (from optuna) (1.7.5)\n",
      "Requirement already satisfied: pyparsing!=3.0.5,>=2.0.2 in /usr/local/lib/python3.7/dist-packages (from packaging>=20.0->optuna) (3.0.6)\n",
      "Requirement already satisfied: importlib-metadata in /usr/local/lib/python3.7/dist-packages (from sqlalchemy>=1.1.0->optuna) (4.10.0)\n",
      "Requirement already satisfied: greenlet!=0.4.17 in /usr/local/lib/python3.7/dist-packages (from sqlalchemy>=1.1.0->optuna) (1.1.2)\n",
      "Requirement already satisfied: importlib-resources in /usr/local/lib/python3.7/dist-packages (from alembic->optuna) (5.4.0)\n",
      "Requirement already satisfied: Mako in /usr/local/lib/python3.7/dist-packages (from alembic->optuna) (1.1.6)\n",
      "Requirement already satisfied: PrettyTable>=0.7.2 in /usr/local/lib/python3.7/dist-packages (from cliff->optuna) (3.0.0)\n",
      "Requirement already satisfied: pbr!=2.1.0,>=2.0.0 in /usr/local/lib/python3.7/dist-packages (from cliff->optuna) (5.8.0)\n",
      "Requirement already satisfied: autopage>=0.4.0 in /usr/local/lib/python3.7/dist-packages (from cliff->optuna) (0.4.0)\n",
      "Requirement already satisfied: cmd2>=1.0.0 in /usr/local/lib/python3.7/dist-packages (from cliff->optuna) (2.3.3)\n",
      "Requirement already satisfied: stevedore>=2.0.1 in /usr/local/lib/python3.7/dist-packages (from cliff->optuna) (3.5.0)\n",
      "Requirement already satisfied: pyperclip>=1.6 in /usr/local/lib/python3.7/dist-packages (from cmd2>=1.0.0->cliff->optuna) (1.8.2)\n",
      "Requirement already satisfied: attrs>=16.3.0 in /usr/local/lib/python3.7/dist-packages (from cmd2>=1.0.0->cliff->optuna) (21.4.0)\n",
      "Requirement already satisfied: wcwidth>=0.1.7 in /usr/local/lib/python3.7/dist-packages (from cmd2>=1.0.0->cliff->optuna) (0.2.5)\n",
      "Requirement already satisfied: typing-extensions in /usr/local/lib/python3.7/dist-packages (from cmd2>=1.0.0->cliff->optuna) (3.10.0.2)\n",
      "Requirement already satisfied: zipp>=0.5 in /usr/local/lib/python3.7/dist-packages (from importlib-metadata->sqlalchemy>=1.1.0->optuna) (3.7.0)\n",
      "Requirement already satisfied: MarkupSafe>=0.9.2 in /usr/local/lib/python3.7/dist-packages (from Mako->alembic->optuna) (2.0.1)\n",
      "Drive already mounted at /content/drive; to attempt to forcibly remount, call drive.mount(\"/content/drive\", force_remount=True).\n"
     ]
    }
   ],
   "source": [
    "from google import colab\n",
    "!pip install catboost\n",
    "!pip install optuna\n",
    "from sklearn.model_selection import StratifiedKFold,train_test_split\n",
    "import optuna\n",
    "from optuna.samplers import TPESampler\n",
    "import tensorflow as tf\n",
    "import random\n",
    "import os\n",
    "import sys\n",
    "import platform\n",
    "import random\n",
    "import math\n",
    "from typing import List ,Dict, Tuple\n",
    "\n",
    "import pandas as pd\n",
    "import numpy as np\n",
    " \n",
    "import sklearn \n",
    "from sklearn.model_selection import StratifiedKFold , KFold\n",
    "from sklearn.metrics import f1_score \n",
    "\n",
    "from catboost import Pool,CatBoostClassifier\n",
    "colab.drive.mount(\"/content/drive\")"
   ]
  },
  {
   "cell_type": "code",
   "execution_count": null,
   "metadata": {
    "colab": {
     "base_uri": "https://localhost:8080/"
    },
    "executionInfo": {
     "elapsed": 16,
     "status": "ok",
     "timestamp": 1642086663981,
     "user": {
      "displayName": "Go MinSeong",
      "photoUrl": "https://lh3.googleusercontent.com/a-/AOh14GhPdOgBXoiFXbQiizELbndEiEeylqjMU5E0MLEI-A=s64",
      "userId": "11864151055736086421"
     },
     "user_tz": -540
    },
    "id": "JrFVn_n8M4FB",
    "outputId": "c6154401-ae88-4512-9f92-6df339e10dd5"
   },
   "outputs": [
    {
     "name": "stdout",
     "output_type": "stream",
     "text": [
      "RANDOM SEEDS RESET\n"
     ]
    }
   ],
   "source": [
    "DATA_PATH = \"/content/drive/MyDrive/Jobcare_data/\"\n",
    "SEED = 42\n",
    "\n",
    "# 매번 모델링을 할 때마다 동일한 결과를 얻기 위해 랜덤 시드 설정 동일하게 유지\n",
    "# 럭키 시드 찾는건 시간상 어려움\n",
    "\n",
    "def reset_seeds(reset_graph_with_backend=None):\n",
    "    if reset_graph_with_backend is not None:\n",
    "        K = reset_graph_with_backend\n",
    "        K.clear_session()\n",
    "        tf.compat.v1.reset_default_graph()\n",
    "        print(\"KERAS AND TENSORFLOW GRAPHS RESET\")  # optional\n",
    "\n",
    "    np.random.seed(1)\n",
    "    random.seed(2)\n",
    "    tf.compat.v1.set_random_seed(3)\n",
    "    os.environ['CUDA_VISIBLE_DEVICES'] = '0'  # for GPU\n",
    "    print(\"RANDOM SEEDS RESET\")  # optional\n",
    "   \n",
    "reset_seeds()"
   ]
  },
  {
   "cell_type": "code",
   "execution_count": null,
   "metadata": {
    "colab": {
     "base_uri": "https://localhost:8080/"
    },
    "executionInfo": {
     "elapsed": 14,
     "status": "ok",
     "timestamp": 1642086663982,
     "user": {
      "displayName": "Go MinSeong",
      "photoUrl": "https://lh3.googleusercontent.com/a-/AOh14GhPdOgBXoiFXbQiizELbndEiEeylqjMU5E0MLEI-A=s64",
      "userId": "11864151055736086421"
     },
     "user_tz": -540
    },
    "id": "ZDd_t2nxk0fm",
    "outputId": "f363f008-3941-4aeb-8ed1-878fa63be364"
   },
   "outputs": [
    {
     "name": "stdout",
     "output_type": "stream",
     "text": [
      "- os: Linux-5.4.144+-x86_64-with-Ubuntu-18.04-bionic\n",
      "- python: 3.7.12 (default, Sep 10 2021, 00:21:48) \n",
      "[GCC 7.5.0]\n",
      "- pandas: 1.1.5\n",
      "- numpy: 1.19.5\n",
      "- sklearn: 1.0.2\n"
     ]
    }
   ],
   "source": [
    "print(f\"- os: {platform.platform()}\")\n",
    "print(f\"- python: {sys.version}\")\n",
    "print(f\"- pandas: {pd.__version__}\")\n",
    "print(f\"- numpy: {np.__version__}\")\n",
    "print(f\"- sklearn: {sklearn.__version__}\")"
   ]
  },
  {
   "cell_type": "code",
   "execution_count": null,
   "metadata": {
    "colab": {
     "base_uri": "https://localhost:8080/"
    },
    "executionInfo": {
     "elapsed": 2268,
     "status": "ok",
     "timestamp": 1642086666240,
     "user": {
      "displayName": "Go MinSeong",
      "photoUrl": "https://lh3.googleusercontent.com/a-/AOh14GhPdOgBXoiFXbQiizELbndEiEeylqjMU5E0MLEI-A=s64",
      "userId": "11864151055736086421"
     },
     "user_tz": -540
    },
    "id": "913DWqIZk2Xq",
    "outputId": "d4736f09-11e4-49ed-c611-0025c5035988"
   },
   "outputs": [
    {
     "data": {
      "text/plain": [
       "((501951, 35), (46404, 34))"
      ]
     },
     "execution_count": 126,
     "metadata": {},
     "output_type": "execute_result"
    }
   ],
   "source": [
    "train_data = pd.read_csv(f'{DATA_PATH}train.csv').sort_values(by=\"contents_open_dt\")\n",
    "test_data = pd.read_csv(f'{DATA_PATH}test.csv')\n",
    "\n",
    "code_d = pd.read_csv(f'{DATA_PATH}속성_D_코드.csv')\n",
    "code_h = pd.read_csv(f'{DATA_PATH}속성_H_코드.csv')\n",
    "code_l = pd.read_csv(f'{DATA_PATH}속성_L_코드.csv')\n",
    "\n",
    "train_data.shape , test_data.shape"
   ]
  },
  {
   "cell_type": "code",
   "execution_count": null,
   "metadata": {
    "id": "m0Yh16eak37v"
   },
   "outputs": [],
   "source": [
    "code_d.columns= [\"attribute_d\",\"attribute_d_d\",\"attribute_d_s\",\"attribute_d_m\",\"attribute_d_l\"]\n",
    "code_h.columns= [\"attribute_h\",\"attribute_h_m\",\"attribute_h_l\"]\n",
    "code_l.columns= [\"attribute_l\",\"attribute_l_d\",\"attribute_l_s\",\"attribute_l_m\",\"attribute_l_l\"]"
   ]
  },
  {
   "cell_type": "code",
   "execution_count": null,
   "metadata": {
    "id": "Ua7vxmnRk5O3"
   },
   "outputs": [],
   "source": [
    "def merge_codes(df:pd.DataFrame,df_code:pd.DataFrame,col:str)->pd.DataFrame:\n",
    "    df = df.copy()\n",
    "    df_code = df_code.copy()\n",
    "    df_code = df_code.add_prefix(f\"{col}_\")\n",
    "    df_code.columns.values[0] = col\n",
    "    return pd.merge(df,df_code,how=\"left\",on=col)"
   ]
  },
  {
   "cell_type": "code",
   "execution_count": null,
   "metadata": {
    "id": "f7aQyqKllZzu"
   },
   "outputs": [],
   "source": [
    "def preprocess_data(\n",
    "                    df:pd.DataFrame,is_train:bool = True, cols_merge:List[Tuple[str,pd.DataFrame]] = []  , cols_equi:List[Tuple[str,str]]= [] ,\n",
    "                    cols_drop:List[str] = [\"id\",\"person_prefer_f\",\"person_prefer_g\" ,\"contents_open_dt\"]\n",
    "                    )->Tuple[pd.DataFrame,np.ndarray]:\n",
    "    df = df.copy()\n",
    "\n",
    "    y_data = None\n",
    "    if is_train:\n",
    "        y_data = df[\"target\"].to_numpy()\n",
    "        df = df.drop(columns=\"target\")\n",
    "\n",
    "    for col, df_code in cols_merge:\n",
    "        df = merge_codes(df,df_code,col)\n",
    "\n",
    "    cols = df.select_dtypes(bool).columns.tolist()\n",
    "    df[cols] = df[cols].astype(int)\n",
    "\n",
    "    for col1, col2 in cols_equi:\n",
    "        df[f\"{col1}_match_{col2}\"] = (df[col1] == df[col2] ).astype(int)\n",
    "\n",
    "    df = df.drop(columns=cols_drop)\n",
    "    return (df , y_data)"
   ]
  },
  {
   "cell_type": "code",
   "execution_count": null,
   "metadata": {
    "id": "Wn2smpHllcTL"
   },
   "outputs": [],
   "source": [
    "# 소분류 중분류 대분류 속성코드 merge 컬럼명 및 데이터 프레임 리스트\n",
    "cols_merge = [\n",
    "              (\"person_prefer_d_1\" , code_d),\n",
    "              (\"person_prefer_d_2\" , code_d),\n",
    "              (\"person_prefer_d_3\" , code_d),\n",
    "              (\"contents_attribute_d\" , code_d),\n",
    "              (\"person_prefer_h_1\" , code_h),\n",
    "              (\"person_prefer_h_2\" , code_h),\n",
    "              (\"person_prefer_h_3\" , code_h),\n",
    "              (\"contents_attribute_h\" , code_h),\n",
    "              (\"contents_attribute_l\" , code_l),\n",
    "]\n",
    "\n",
    "# 회원 속성과 콘텐츠 속성의 동일한 코드 여부에 대한 컬럼명 리스트\n",
    "cols_equi = [\n",
    "    #(\"contents_attribute_a\",\"person_attribute_a\"),\n",
    "    (\"contents_attribute_c\",\"person_prefer_c\"),\n",
    "\n",
    "    (\"person_prefer_d_1_attribute_d_s\" , \"contents_attribute_d_attribute_d_s\"),\n",
    "    (\"person_prefer_d_1_attribute_d_m\" , \"contents_attribute_d_attribute_d_m\"),\n",
    "    (\"person_prefer_d_2_attribute_d_s\" , \"contents_attribute_d_attribute_d_s\"),\n",
    "    (\"person_prefer_d_2_attribute_d_m\" , \"contents_attribute_d_attribute_d_m\"),\n",
    "    (\"person_prefer_d_2_attribute_d_d\" , \"contents_attribute_d_attribute_d_d\"),\n",
    "    (\"person_prefer_d_3_attribute_d_s\" , \"contents_attribute_d_attribute_d_s\"),\n",
    "    (\"person_prefer_d_3_attribute_d_m\" , \"contents_attribute_d_attribute_d_m\"),\n",
    "    (\"person_prefer_d_3_attribute_d_d\" , \"contents_attribute_d_attribute_d_d\"),\n",
    "\n",
    "    (\"person_prefer_h_2_attribute_h_m\" , \"contents_attribute_h_attribute_h_m\"),\n",
    "    (\"person_prefer_h_2_attribute_h_l\" , \"contents_attribute_h_attribute_h_l\"),\n",
    "    (\"person_prefer_h_3_attribute_h_m\" , \"contents_attribute_h_attribute_h_m\"),\n",
    "    (\"person_prefer_h_3_attribute_h_l\" , \"contents_attribute_h_attribute_h_l\"),\n",
    "\n",
    "]\n"
   ]
  },
  {
   "cell_type": "code",
   "execution_count": null,
   "metadata": {
    "id": "wlqXZgrrZgEV"
   },
   "outputs": [],
   "source": [
    "# 날짜형 변수 전환\n",
    "train_data[\"contents_open_dt\"]=pd.to_datetime(train_data[\"contents_open_dt\"])\n",
    "test_data[\"contents_open_dt\"]=pd.to_datetime(test_data[\"contents_open_dt\"])\n",
    "\n",
    "\n",
    "# 날짜 피쳐 생성\n",
    "for i in [train_data, test_data]:\n",
    "    i['DAY'] = i['contents_open_dt'].dt.day\n",
    "    #i['DAY_range']=i['DAY'].apply(lambda x: \"초\" if x<=10 else (\"중\" if x<=20 else \"말\"))\n",
    "    i['WEEKDAY'] = i['contents_open_dt'].dt.weekday\n",
    "    #i['WEEKDAY_range']=i['WEEKDAY'].apply(lambda x: \"평일\" if x<=4 else \"주말\")\n",
    "    i['HOUR'] = i['contents_open_dt'].dt.hour\n",
    "    #i['MONTH'] = i['contents_open_dt'].dt.month\n",
    "    i['HOUR_range'] = pd.cut(i['contents_open_dt'], 4, labels = ['1', '2', '3', '4'], right = True, include_lowest=True)\n",
    "\n",
    "#train=train.query(\"MONTH>=11\")\n",
    "#train.drop(labels=\"MONTH\",axis=1,inplace=True)\n",
    "\n",
    "\n",
    "\n",
    "#train.drop(labels=\"contents_open_dt\",inplace=True, axis=1)\n",
    "#test.drop(labels=\"contents_open_dt\",inplace=True, axis=1)\n",
    "\n",
    "# 학습에 필요없는 컬럼 리스트\n",
    "cols_drop = [\"id\",\"person_prefer_f\",\"person_prefer_g\" ,\"contents_open_dt\", \"contents_rn\" ]"
   ]
  },
  {
   "cell_type": "code",
   "execution_count": null,
   "metadata": {
    "colab": {
     "base_uri": "https://localhost:8080/"
    },
    "executionInfo": {
     "elapsed": 2045,
     "status": "ok",
     "timestamp": 1642086668582,
     "user": {
      "displayName": "Go MinSeong",
      "photoUrl": "https://lh3.googleusercontent.com/a-/AOh14GhPdOgBXoiFXbQiizELbndEiEeylqjMU5E0MLEI-A=s64",
      "userId": "11864151055736086421"
     },
     "user_tz": -540
    },
    "id": "M16hTQu2mBPf",
    "outputId": "39064c4b-d132-47b1-aa9f-0f2b0a530d8d"
   },
   "outputs": [
    {
     "data": {
      "text/plain": [
       "((501951, 74), (501951,), (46404, 74))"
      ]
     },
     "execution_count": 132,
     "metadata": {},
     "output_type": "execute_result"
    }
   ],
   "source": [
    "x_train, y_train = preprocess_data(train_data, cols_merge = cols_merge , cols_equi= cols_equi , cols_drop = cols_drop)\n",
    "x_test, _ = preprocess_data(test_data,is_train = False, cols_merge = cols_merge , cols_equi= cols_equi  , cols_drop = cols_drop)\n",
    "x_train.shape , y_train.shape , x_test.shape"
   ]
  },
  {
   "cell_type": "code",
   "execution_count": null,
   "metadata": {
    "id": "Pu1a7gnKeycP"
   },
   "outputs": [],
   "source": [
    "# e 가 순서형 변수이기에 절댓값 마이너스를 했으나 오히려 성능 감소\n",
    "\n",
    "x_train[\"e_minus\"]=x_train[\"contents_attribute_e\"]-x_train[\"person_prefer_e\"];    x_train[\"e_minus\"]=x_train[\"e_minus\"].apply(lambda x: 1 if abs(x)<2 else 0)\n",
    "x_test[\"e_minus\"]=x_test[\"contents_attribute_e\"]-x_test[\"person_prefer_e\"];    x_test[\"e_minus\"]=x_test[\"e_minus\"].apply(lambda x: 1 if abs(x)<2 else 0)"
   ]
  },
  {
   "cell_type": "code",
   "execution_count": null,
   "metadata": {
    "id": "HWvfjp9Uj48_"
   },
   "outputs": [],
   "source": [
    "# 사람 별로 특징을 구분하여 그룹지은 걸 타겟 인코딩\n",
    "\n",
    "x_train[\"person_group\"]=x_train[\"person_attribute_a\"].apply(str)+x_train[\"person_attribute_a_1\"].apply(str)+x_train[\"person_attribute_b\"].apply(str)\n",
    "x_test[\"person_group\"]=x_test[\"person_attribute_a\"].apply(str)+x_test[\"person_attribute_a_1\"].apply(str)+x_test[\"person_attribute_b\"].apply(str)\n",
    "\n",
    "x_train1=x_train.copy()\n",
    "x_train1[\"target\"]=y_train\n",
    "\n",
    "group=pd.DataFrame(x_train1.groupby(\"person_group\")[\"target\"].agg(t=\"mean\"))\n",
    "x_train=pd.merge(x_train,group,how=\"left\",on=\"person_group\")\n",
    "x_test=pd.merge(x_test,group,how=\"left\",on=\"person_group\")\n",
    "\n",
    "x_train.drop(labels=\"person_group\", axis=1, inplace=True)\n",
    "x_test.drop(labels=\"person_group\", axis=1, inplace=True)"
   ]
  },
  {
   "cell_type": "code",
   "execution_count": null,
   "metadata": {
    "id": "RQWu3F8JpGwn"
   },
   "outputs": [],
   "source": [
    "# 컨텐츠 d 의 잔차 합 피쳐\n",
    "\n",
    "#x_train[\"d_minus_sum\"]=x_train[\"contents_attribute_d\"]*3-x_train[\"person_prefer_d_1\"]-x_train[\"person_prefer_d_2\"]-x_train[\"person_prefer_d_3\"]\n",
    "#x_test[\"d_minus_sum\"]=x_test[\"contents_attribute_d\"]*3-x_test[\"person_prefer_d_1\"]-x_test[\"person_prefer_d_2\"]-x_test[\"person_prefer_d_3\"]"
   ]
  },
  {
   "cell_type": "code",
   "execution_count": null,
   "metadata": {
    "id": "VmJrj3zO5gpg"
   },
   "outputs": [],
   "source": [
    "x_train[\"user_a\"]=np.sum(x_train[['person_attribute_a','person_attribute_a_1']].astype(\"str\"),axis=1).astype(int)\n",
    "\n",
    "x_test[\"user_a\"]=np.sum(x_test[['person_attribute_a','person_attribute_a_1']].astype(\"str\"),axis=1).astype(int)\n",
    "\n",
    "x_train.drop(labels=['person_attribute_a','person_attribute_a_1'],axis=1,inplace=True)\n",
    "x_test.drop(labels=['person_attribute_a','person_attribute_a_1'],axis=1,inplace=True)"
   ]
  },
  {
   "cell_type": "code",
   "execution_count": null,
   "metadata": {
    "id": "HtmCYY59mCmI"
   },
   "outputs": [],
   "source": [
    "x_train=pd.get_dummies(x_train, columns=[\"HOUR_range\"])\n",
    "x_test=pd.get_dummies(x_test, columns=[\"HOUR_range\"])\n",
    "\n",
    "cat_features = x_train.columns[x_train.nunique() > 2].tolist()\n",
    "cat_features.remove(\"t\")"
   ]
  },
  {
   "cell_type": "code",
   "execution_count": null,
   "metadata": {
    "id": "Ss9Fp3DYnqPW"
   },
   "outputs": [],
   "source": [
    "x_train[\"match_sum_d\"]=np.sum(x_train[[x for x in x_train.columns if \"match\" in x and \"math_sum\" not in x and \"_d\" in x]],axis=1)\n",
    "\n",
    "x_test[\"match_sum_d\"]=np.sum(x_test[[x for x in x_test.columns if \"match\" in x and \"math_sum\" not in x and \"_d\" in x]],axis=1)\n",
    "\n",
    "x_train[\"match_sum_h\"]=np.sum(x_train[[x for x in x_train.columns if \"match\" in x and \"math_sum\" not in x and \"_h\" in x]],axis=1)\n",
    "\n",
    "x_test[\"match_sum_h\"]=np.sum(x_test[[x for x in x_test.columns if \"match\" in x and \"math_sum\" not in x and \"_h\" in x]],axis=1)"
   ]
  },
  {
   "cell_type": "code",
   "execution_count": null,
   "metadata": {
    "id": "tBb_Hlsdmqzs"
   },
   "outputs": [],
   "source": [
    "is_holdout = False\n",
    "n_splits = 5\n",
    "iterations = 1000\n",
    "patience = 50\n",
    "\n",
    "cv = KFold(n_splits=n_splits, shuffle=True, random_state=SEED )"
   ]
  },
  {
   "cell_type": "markdown",
   "metadata": {
    "id": "QRENI79f5Qoq"
   },
   "source": [
    "def objective(trial):\n",
    "  param = {\n",
    "      \"random_state\":42,\n",
    "      'learning_rate' : trial.suggest_loguniform('learning_rate', 0.01, 0.3),\n",
    "      'bagging_temperature' :trial.suggest_loguniform('bagging_temperature', 0.01, 100.00),\n",
    "      \"n_estimators\":trial.suggest_int(\"n_estimators\", 1000, 10000),\n",
    "      \"max_depth\":trial.suggest_int(\"max_depth\", 4, 16),\n",
    "      'random_strength' :trial.suggest_int('random_strength', 0, 100),\n",
    "      \"colsample_bylevel\":trial.suggest_float(\"colsample_bylevel\", 0.4, 1.0),\n",
    "      \"l2_leaf_reg\":trial.suggest_float(\"l2_leaf_reg\",1e-8,3e-5),\n",
    "      \"min_child_samples\": trial.suggest_int(\"min_child_samples\", 5, 100),\n",
    "      \"max_bin\": trial.suggest_int(\"max_bin\", 200, 500),\n",
    "      'od_type': trial.suggest_categorical('od_type', ['IncToDec', 'Iter']),\n",
    "      'task_type':trial.suggest_categorical('task_type', ['GPU'])\n",
    "  }\n",
    "\n",
    "  X_train1, X_valid1, y_train1, y_valid1 = train_test_split(x_train,y_train,test_size=0.2)\n",
    "  \n",
    "  cat = CatBoostClassifier(**param)\n",
    "  cat.fit(X_train1, y_train1,\n",
    "          eval_set=[(X_train1, y_train1), (X_valid1,y_valid1)],\n",
    "          early_stopping_rounds=35,cat_features=cat_features,\n",
    "          verbose=100)\n",
    "  cat_pred = cat.predict_proba(X_valid1)\n",
    "  score = f1_score(y_valid1, cat_pred)\n",
    "\n",
    "  return score"
   ]
  },
  {
   "cell_type": "markdown",
   "metadata": {
    "id": "Ei86ssvE5Qsp"
   },
   "source": [
    "sampler = TPESampler(seed=42)\n",
    "study = optuna.create_study(\n",
    "    study_name = 'cat_parameter_opt',\n",
    "    sampler = sampler,\n",
    ")\n",
    "study.optimize(objective, n_trials=10)\n",
    "print(\"Best Score:\",study.best_value)\n",
    "print(\"Best trial\",study.best_trial.params)"
   ]
  },
  {
   "cell_type": "code",
   "execution_count": null,
   "metadata": {
    "colab": {
     "base_uri": "https://localhost:8080/"
    },
    "executionInfo": {
     "elapsed": 389908,
     "status": "ok",
     "timestamp": 1642087061826,
     "user": {
      "displayName": "Go MinSeong",
      "photoUrl": "https://lh3.googleusercontent.com/a-/AOh14GhPdOgBXoiFXbQiizELbndEiEeylqjMU5E0MLEI-A=s64",
      "userId": "11864151055736086421"
     },
     "user_tz": -540
    },
    "id": "n4YTCBrWms_e",
    "outputId": "911e1830-5dc3-4283-cf4b-2017ac9768f0"
   },
   "outputs": [
    {
     "name": "stdout",
     "output_type": "stream",
     "text": [
      "==================================================\n",
      "Learning rate set to 0.042777\n",
      "0:\tlearn: 0.6240141\ttest: 0.6243714\tbest: 0.6243714 (0)\ttotal: 107ms\tremaining: 1m 46s\n",
      "50:\tlearn: 0.6424729\ttest: 0.6490673\tbest: 0.6490673 (50)\ttotal: 5.79s\tremaining: 1m 47s\n",
      "100:\tlearn: 0.6543482\ttest: 0.6686408\tbest: 0.6686408 (100)\ttotal: 12s\tremaining: 1m 46s\n",
      "150:\tlearn: 0.6594252\ttest: 0.6784297\tbest: 0.6784297 (150)\ttotal: 18.1s\tremaining: 1m 41s\n",
      "200:\tlearn: 0.6630024\ttest: 0.6820740\tbest: 0.6820740 (200)\ttotal: 24s\tremaining: 1m 35s\n",
      "250:\tlearn: 0.6655673\ttest: 0.6840630\tbest: 0.6840630 (250)\ttotal: 30s\tremaining: 1m 29s\n",
      "300:\tlearn: 0.6679051\ttest: 0.6850528\tbest: 0.6850528 (300)\ttotal: 35.8s\tremaining: 1m 23s\n",
      "350:\tlearn: 0.6701414\ttest: 0.6853808\tbest: 0.6855142 (346)\ttotal: 41.5s\tremaining: 1m 16s\n",
      "400:\tlearn: 0.6718060\ttest: 0.6853950\tbest: 0.6857705 (373)\ttotal: 47s\tremaining: 1m 10s\n",
      "450:\tlearn: 0.6729997\ttest: 0.6852246\tbest: 0.6859546 (420)\ttotal: 52.5s\tremaining: 1m 3s\n",
      "bestTest = 0.6859546411\n",
      "bestIteration = 420\n",
      "Shrink model to first 421 iterations.\n",
      "==================================================\n",
      "Learning rate set to 0.042777\n",
      "0:\tlearn: 0.6085119\ttest: 0.6124448\tbest: 0.6124448 (0)\ttotal: 106ms\tremaining: 1m 46s\n",
      "50:\tlearn: 0.6429028\ttest: 0.6529457\tbest: 0.6529457 (50)\ttotal: 6.1s\tremaining: 1m 53s\n",
      "100:\tlearn: 0.6536526\ttest: 0.6691266\tbest: 0.6691266 (100)\ttotal: 12.4s\tremaining: 1m 50s\n",
      "150:\tlearn: 0.6591065\ttest: 0.6772896\tbest: 0.6772896 (150)\ttotal: 18.4s\tremaining: 1m 43s\n",
      "200:\tlearn: 0.6623747\ttest: 0.6800695\tbest: 0.6801173 (199)\ttotal: 24.4s\tremaining: 1m 36s\n",
      "250:\tlearn: 0.6646191\ttest: 0.6819165\tbest: 0.6820694 (247)\ttotal: 30.3s\tremaining: 1m 30s\n",
      "300:\tlearn: 0.6672114\ttest: 0.6836637\tbest: 0.6836637 (300)\ttotal: 36.2s\tremaining: 1m 24s\n",
      "350:\tlearn: 0.6689318\ttest: 0.6842957\tbest: 0.6844396 (341)\ttotal: 41.9s\tremaining: 1m 17s\n",
      "400:\tlearn: 0.6702042\ttest: 0.6841673\tbest: 0.6845864 (374)\ttotal: 47.3s\tremaining: 1m 10s\n",
      "bestTest = 0.6845863953\n",
      "bestIteration = 374\n",
      "Shrink model to first 375 iterations.\n",
      "==================================================\n",
      "Learning rate set to 0.042777\n",
      "0:\tlearn: 0.6396542\ttest: 0.6388537\tbest: 0.6388537 (0)\ttotal: 110ms\tremaining: 1m 49s\n",
      "50:\tlearn: 0.6420234\ttest: 0.6500990\tbest: 0.6500990 (50)\ttotal: 5.85s\tremaining: 1m 48s\n",
      "100:\tlearn: 0.6513338\ttest: 0.6626251\tbest: 0.6626251 (100)\ttotal: 12.1s\tremaining: 1m 48s\n",
      "150:\tlearn: 0.6573666\ttest: 0.6722966\tbest: 0.6722966 (150)\ttotal: 17.9s\tremaining: 1m 40s\n",
      "200:\tlearn: 0.6616550\ttest: 0.6804893\tbest: 0.6804893 (200)\ttotal: 23.7s\tremaining: 1m 34s\n",
      "250:\tlearn: 0.6644624\ttest: 0.6828325\tbest: 0.6829063 (248)\ttotal: 29.6s\tremaining: 1m 28s\n",
      "300:\tlearn: 0.6667521\ttest: 0.6835797\tbest: 0.6835973 (298)\ttotal: 35.4s\tremaining: 1m 22s\n",
      "350:\tlearn: 0.6686820\ttest: 0.6842964\tbest: 0.6843485 (349)\ttotal: 41s\tremaining: 1m 15s\n",
      "400:\tlearn: 0.6703235\ttest: 0.6845783\tbest: 0.6847624 (393)\ttotal: 46.6s\tremaining: 1m 9s\n",
      "450:\tlearn: 0.6715067\ttest: 0.6853924\tbest: 0.6855786 (447)\ttotal: 52.2s\tremaining: 1m 3s\n",
      "500:\tlearn: 0.6728811\ttest: 0.6854405\tbest: 0.6858138 (464)\ttotal: 57.8s\tremaining: 57.6s\n",
      "bestTest = 0.685813817\n",
      "bestIteration = 464\n",
      "Shrink model to first 465 iterations.\n",
      "==================================================\n",
      "Learning rate set to 0.042777\n",
      "0:\tlearn: 0.6253393\ttest: 0.6269624\tbest: 0.6269624 (0)\ttotal: 108ms\tremaining: 1m 47s\n",
      "50:\tlearn: 0.6411130\ttest: 0.6480806\tbest: 0.6480806 (50)\ttotal: 5.97s\tremaining: 1m 51s\n",
      "100:\tlearn: 0.6511975\ttest: 0.6639652\tbest: 0.6639652 (100)\ttotal: 12.2s\tremaining: 1m 48s\n",
      "150:\tlearn: 0.6580883\ttest: 0.6764670\tbest: 0.6764670 (150)\ttotal: 18.1s\tremaining: 1m 42s\n",
      "200:\tlearn: 0.6625143\ttest: 0.6806651\tbest: 0.6810261 (196)\ttotal: 24.3s\tremaining: 1m 36s\n",
      "250:\tlearn: 0.6647389\ttest: 0.6810157\tbest: 0.6812778 (231)\ttotal: 29.9s\tremaining: 1m 29s\n",
      "300:\tlearn: 0.6671730\ttest: 0.6821730\tbest: 0.6823116 (293)\ttotal: 35.7s\tremaining: 1m 22s\n",
      "350:\tlearn: 0.6689165\ttest: 0.6825884\tbest: 0.6829287 (342)\ttotal: 41.3s\tremaining: 1m 16s\n",
      "400:\tlearn: 0.6704582\ttest: 0.6836161\tbest: 0.6836161 (400)\ttotal: 46.9s\tremaining: 1m 10s\n",
      "450:\tlearn: 0.6715194\ttest: 0.6828967\tbest: 0.6838738 (429)\ttotal: 52.6s\tremaining: 1m 4s\n",
      "bestTest = 0.6838737808\n",
      "bestIteration = 429\n",
      "Shrink model to first 430 iterations.\n",
      "==================================================\n",
      "Learning rate set to 0.042777\n",
      "0:\tlearn: 0.6094431\ttest: 0.6096047\tbest: 0.6096047 (0)\ttotal: 111ms\tremaining: 1m 50s\n",
      "50:\tlearn: 0.6422891\ttest: 0.6449633\tbest: 0.6449633 (50)\ttotal: 5.98s\tremaining: 1m 51s\n",
      "100:\tlearn: 0.6532268\ttest: 0.6638209\tbest: 0.6640289 (99)\ttotal: 12.2s\tremaining: 1m 48s\n",
      "150:\tlearn: 0.6588476\ttest: 0.6736645\tbest: 0.6736645 (150)\ttotal: 18.2s\tremaining: 1m 42s\n",
      "200:\tlearn: 0.6621750\ttest: 0.6768102\tbest: 0.6770112 (197)\ttotal: 24.1s\tremaining: 1m 35s\n",
      "250:\tlearn: 0.6636266\ttest: 0.6790137\tbest: 0.6790137 (250)\ttotal: 30s\tremaining: 1m 29s\n",
      "300:\tlearn: 0.6658154\ttest: 0.6802827\tbest: 0.6804207 (297)\ttotal: 35.8s\tremaining: 1m 23s\n",
      "350:\tlearn: 0.6678395\ttest: 0.6807332\tbest: 0.6807412 (349)\ttotal: 41.3s\tremaining: 1m 16s\n",
      "400:\tlearn: 0.6695647\ttest: 0.6810127\tbest: 0.6811778 (391)\ttotal: 47s\tremaining: 1m 10s\n",
      "450:\tlearn: 0.6707760\ttest: 0.6812314\tbest: 0.6813345 (439)\ttotal: 52.5s\tremaining: 1m 3s\n",
      "500:\tlearn: 0.6718934\ttest: 0.6817131\tbest: 0.6818057 (493)\ttotal: 58.2s\tremaining: 58s\n",
      "550:\tlearn: 0.6731183\ttest: 0.6814282\tbest: 0.6818178 (506)\ttotal: 1m 3s\tremaining: 51.8s\n",
      "bestTest = 0.681817751\n",
      "bestIteration = 506\n",
      "Shrink model to first 507 iterations.\n"
     ]
    }
   ],
   "source": [
    "scores = []\n",
    "models = []\n",
    "\n",
    "\n",
    "models = []\n",
    "for tri, vai in cv.split(x_train):\n",
    "    print(\"=\"*50)\n",
    "    preds = []\n",
    "\n",
    "    model = CatBoostClassifier(iterations=iterations,random_state=SEED,task_type=\"GPU\",eval_metric=\"F1\",cat_features=cat_features,one_hot_max_size=4)\n",
    "    model.fit(x_train.iloc[tri], y_train[tri], \n",
    "            eval_set=[(x_train.iloc[vai], y_train[vai])], \n",
    "            early_stopping_rounds=patience ,\n",
    "            verbose = 50\n",
    "        )\n",
    "    \n",
    "    models.append(model)\n",
    "    scores.append(model.get_best_score()[\"validation\"][\"F1\"])\n",
    "    if is_holdout:\n",
    "        break    "
   ]
  },
  {
   "cell_type": "code",
   "execution_count": null,
   "metadata": {
    "colab": {
     "base_uri": "https://localhost:8080/"
    },
    "executionInfo": {
     "elapsed": 26,
     "status": "ok",
     "timestamp": 1642087061827,
     "user": {
      "displayName": "Go MinSeong",
      "photoUrl": "https://lh3.googleusercontent.com/a-/AOh14GhPdOgBXoiFXbQiizELbndEiEeylqjMU5E0MLEI-A=s64",
      "userId": "11864151055736086421"
     },
     "user_tz": -540
    },
    "id": "ETh3BO2Knmbz",
    "outputId": "e48faea0-6409-44a0-fec2-7dbca5ef7769"
   },
   "outputs": [
    {
     "name": "stdout",
     "output_type": "stream",
     "text": [
      "[0.6859546410504178, 0.6845863953269267, 0.6858138169976713, 0.6838737807941307, 0.6818177510306591]\n",
      "0.6844092770399611\n"
     ]
    }
   ],
   "source": [
    "print(scores)\n",
    "print(np.mean(scores))\n",
    "#0.6834"
   ]
  },
  {
   "cell_type": "code",
   "execution_count": null,
   "metadata": {
    "id": "-gGT7r24nnoN"
   },
   "outputs": [],
   "source": [
    "threshold = 0.375"
   ]
  },
  {
   "cell_type": "code",
   "execution_count": null,
   "metadata": {
    "colab": {
     "base_uri": "https://localhost:8080/"
    },
    "executionInfo": {
     "elapsed": 26545,
     "status": "ok",
     "timestamp": 1642087088354,
     "user": {
      "displayName": "Go MinSeong",
      "photoUrl": "https://lh3.googleusercontent.com/a-/AOh14GhPdOgBXoiFXbQiizELbndEiEeylqjMU5E0MLEI-A=s64",
      "userId": "11864151055736086421"
     },
     "user_tz": -540
    },
    "id": "JOu2FHGtnoXw",
    "outputId": "9a2c88ce-f8aa-4426-83d5-61ed0e670dfb"
   },
   "outputs": [
    {
     "name": "stdout",
     "output_type": "stream",
     "text": [
      "[0.7119507030525088, 0.7130125338540027, 0.712579415501906, 0.7127943329771658, 0.7123137441888187]\n",
      "0.7125301459148804\n"
     ]
    }
   ],
   "source": [
    "pred_list = []\n",
    "scores = []\n",
    "for i,(tri, vai) in enumerate( cv.split(x_train) ):\n",
    "    pred = models[i].predict_proba(x_train.iloc[vai])[:, 1]\n",
    "    pred = np.where(pred >= threshold , 1, 0)\n",
    "    score = f1_score(y_train[vai],pred)\n",
    "    scores.append(score)\n",
    "    pred = models[i].predict_proba(x_test)[:, 1]\n",
    "    pred_list.append(pred)\n",
    "print(scores)\n",
    "print(np.mean(scores))"
   ]
  },
  {
   "cell_type": "code",
   "execution_count": null,
   "metadata": {
    "colab": {
     "base_uri": "https://localhost:8080/"
    },
    "executionInfo": {
     "elapsed": 44,
     "status": "ok",
     "timestamp": 1642087088355,
     "user": {
      "displayName": "Go MinSeong",
      "photoUrl": "https://lh3.googleusercontent.com/a-/AOh14GhPdOgBXoiFXbQiizELbndEiEeylqjMU5E0MLEI-A=s64",
      "userId": "11864151055736086421"
     },
     "user_tz": -540
    },
    "id": "ZPoExPrrpiMv",
    "outputId": "28f6420b-6449-42d3-c749-a9a664ab9214"
   },
   "outputs": [
    {
     "data": {
      "text/plain": [
       "0.7125301459148804"
      ]
     },
     "execution_count": 144,
     "metadata": {},
     "output_type": "execute_result"
    }
   ],
   "source": [
    "np.mean(scores)   # 단 돌릴때마다 어느정도 성능이 계속 바뀜, gpu를 사용해서 그런가?\n",
    "#0.7129     -   기본 코드\n",
    "#0.710           -   트레인 불러올 때 날자순 정렬 + 점수는 낮아졌지만 제출시 점수는 오히려 오름.  -> 과적합 방지 요소 +\n",
    "#0.7109          -   e, c 코드 마이너스 피쳐 추가   성능 낮아짐    추후 추가 x\n",
    "#0.7111          -   속성 정보마다 인코딩.   제출시 성능 매우 약간 개선\n",
    "#0.7104          -   컨텐츠 d 정보를 유저 선호 d 에 잔차 합 피쳐 추가  성능 악화 제출은 안해봄. 추후 추가 x\n",
    "#0.7106          - 최고 성능... 0.7111일 때와 같은 처리 , 랜덤 시드 고정 적용 \n",
    "#0.7109          - 최고 성능... 0.7111일 때와 같은 처리 , 랜덤 시드 고정 적용  d_code전체\n",
    "#0.7134          - early stopping 강화  -> 제출 시 떨어짐 추가 x\n",
    "#0.7103          - train 을 4월 이후로 줄여봄.   -> 성능이 약간 떨어짐.  train 줄이기 금지.\n",
    "#0.7105\n",
    "#0.7111          - n_split=6 사용 x\n",
    "#0.7126          - early-60  early 더 높이면 안될듯 함 splt이랑 사용 x\n",
    "#0.7111          -# match전부해서 sum 추가\n",
    "#0.7104          - 알고보니 e만 순서형 변수 e를 좀 유한 매치 코드 , c 매치코드 추가\n",
    "#0.7113          - a매치는 점수를 오히려 낮추는 느낌도 존재   -> a 매치 제외시 점수 오름.\n",
    "#0.7108          - math_sum을 구분지음.\n",
    "#0.7097          - c_macth제외.\n",
    "#0.7119          - c_macth포함에서부터 다시 시작 iteration 감소 제출시 0.7넘음  최고 점수 현.\n",
    "#0.7122          - learning rate 0.3으로 높임 성능 감소\n",
    "#0.71114-> 7125?          - a매치 합체시"
   ]
  },
  {
   "cell_type": "code",
   "execution_count": null,
   "metadata": {
    "id": "SStAzFxAnqTR"
   },
   "outputs": [],
   "source": [
    "pred = np.mean( pred_list , axis = 0 )\n",
    "pred = np.where(pred >= threshold , 1, 0)"
   ]
  },
  {
   "cell_type": "code",
   "execution_count": null,
   "metadata": {
    "colab": {
     "base_uri": "https://localhost:8080/",
     "height": 424
    },
    "executionInfo": {
     "elapsed": 43,
     "status": "ok",
     "timestamp": 1642087088357,
     "user": {
      "displayName": "Go MinSeong",
      "photoUrl": "https://lh3.googleusercontent.com/a-/AOh14GhPdOgBXoiFXbQiizELbndEiEeylqjMU5E0MLEI-A=s64",
      "userId": "11864151055736086421"
     },
     "user_tz": -540
    },
    "id": "z_OcgByGnrFa",
    "outputId": "9d1a3dce-9963-4414-e558-050c8d1d123f"
   },
   "outputs": [
    {
     "data": {
      "text/html": [
       "\n",
       "  <div id=\"df-5c210d66-f8bb-4683-b500-d7f37ebf31c1\">\n",
       "    <div class=\"colab-df-container\">\n",
       "      <div>\n",
       "<style scoped>\n",
       "    .dataframe tbody tr th:only-of-type {\n",
       "        vertical-align: middle;\n",
       "    }\n",
       "\n",
       "    .dataframe tbody tr th {\n",
       "        vertical-align: top;\n",
       "    }\n",
       "\n",
       "    .dataframe thead th {\n",
       "        text-align: right;\n",
       "    }\n",
       "</style>\n",
       "<table border=\"1\" class=\"dataframe\">\n",
       "  <thead>\n",
       "    <tr style=\"text-align: right;\">\n",
       "      <th></th>\n",
       "      <th>id</th>\n",
       "      <th>target</th>\n",
       "    </tr>\n",
       "  </thead>\n",
       "  <tbody>\n",
       "    <tr>\n",
       "      <th>0</th>\n",
       "      <td>0</td>\n",
       "      <td>1</td>\n",
       "    </tr>\n",
       "    <tr>\n",
       "      <th>1</th>\n",
       "      <td>1</td>\n",
       "      <td>0</td>\n",
       "    </tr>\n",
       "    <tr>\n",
       "      <th>2</th>\n",
       "      <td>2</td>\n",
       "      <td>1</td>\n",
       "    </tr>\n",
       "    <tr>\n",
       "      <th>3</th>\n",
       "      <td>3</td>\n",
       "      <td>0</td>\n",
       "    </tr>\n",
       "    <tr>\n",
       "      <th>4</th>\n",
       "      <td>4</td>\n",
       "      <td>0</td>\n",
       "    </tr>\n",
       "    <tr>\n",
       "      <th>...</th>\n",
       "      <td>...</td>\n",
       "      <td>...</td>\n",
       "    </tr>\n",
       "    <tr>\n",
       "      <th>46399</th>\n",
       "      <td>46399</td>\n",
       "      <td>1</td>\n",
       "    </tr>\n",
       "    <tr>\n",
       "      <th>46400</th>\n",
       "      <td>46400</td>\n",
       "      <td>1</td>\n",
       "    </tr>\n",
       "    <tr>\n",
       "      <th>46401</th>\n",
       "      <td>46401</td>\n",
       "      <td>1</td>\n",
       "    </tr>\n",
       "    <tr>\n",
       "      <th>46402</th>\n",
       "      <td>46402</td>\n",
       "      <td>1</td>\n",
       "    </tr>\n",
       "    <tr>\n",
       "      <th>46403</th>\n",
       "      <td>46403</td>\n",
       "      <td>1</td>\n",
       "    </tr>\n",
       "  </tbody>\n",
       "</table>\n",
       "<p>46404 rows × 2 columns</p>\n",
       "</div>\n",
       "      <button class=\"colab-df-convert\" onclick=\"convertToInteractive('df-5c210d66-f8bb-4683-b500-d7f37ebf31c1')\"\n",
       "              title=\"Convert this dataframe to an interactive table.\"\n",
       "              style=\"display:none;\">\n",
       "        \n",
       "  <svg xmlns=\"http://www.w3.org/2000/svg\" height=\"24px\"viewBox=\"0 0 24 24\"\n",
       "       width=\"24px\">\n",
       "    <path d=\"M0 0h24v24H0V0z\" fill=\"none\"/>\n",
       "    <path d=\"M18.56 5.44l.94 2.06.94-2.06 2.06-.94-2.06-.94-.94-2.06-.94 2.06-2.06.94zm-11 1L8.5 8.5l.94-2.06 2.06-.94-2.06-.94L8.5 2.5l-.94 2.06-2.06.94zm10 10l.94 2.06.94-2.06 2.06-.94-2.06-.94-.94-2.06-.94 2.06-2.06.94z\"/><path d=\"M17.41 7.96l-1.37-1.37c-.4-.4-.92-.59-1.43-.59-.52 0-1.04.2-1.43.59L10.3 9.45l-7.72 7.72c-.78.78-.78 2.05 0 2.83L4 21.41c.39.39.9.59 1.41.59.51 0 1.02-.2 1.41-.59l7.78-7.78 2.81-2.81c.8-.78.8-2.07 0-2.86zM5.41 20L4 18.59l7.72-7.72 1.47 1.35L5.41 20z\"/>\n",
       "  </svg>\n",
       "      </button>\n",
       "      \n",
       "  <style>\n",
       "    .colab-df-container {\n",
       "      display:flex;\n",
       "      flex-wrap:wrap;\n",
       "      gap: 12px;\n",
       "    }\n",
       "\n",
       "    .colab-df-convert {\n",
       "      background-color: #E8F0FE;\n",
       "      border: none;\n",
       "      border-radius: 50%;\n",
       "      cursor: pointer;\n",
       "      display: none;\n",
       "      fill: #1967D2;\n",
       "      height: 32px;\n",
       "      padding: 0 0 0 0;\n",
       "      width: 32px;\n",
       "    }\n",
       "\n",
       "    .colab-df-convert:hover {\n",
       "      background-color: #E2EBFA;\n",
       "      box-shadow: 0px 1px 2px rgba(60, 64, 67, 0.3), 0px 1px 3px 1px rgba(60, 64, 67, 0.15);\n",
       "      fill: #174EA6;\n",
       "    }\n",
       "\n",
       "    [theme=dark] .colab-df-convert {\n",
       "      background-color: #3B4455;\n",
       "      fill: #D2E3FC;\n",
       "    }\n",
       "\n",
       "    [theme=dark] .colab-df-convert:hover {\n",
       "      background-color: #434B5C;\n",
       "      box-shadow: 0px 1px 3px 1px rgba(0, 0, 0, 0.15);\n",
       "      filter: drop-shadow(0px 1px 2px rgba(0, 0, 0, 0.3));\n",
       "      fill: #FFFFFF;\n",
       "    }\n",
       "  </style>\n",
       "\n",
       "      <script>\n",
       "        const buttonEl =\n",
       "          document.querySelector('#df-5c210d66-f8bb-4683-b500-d7f37ebf31c1 button.colab-df-convert');\n",
       "        buttonEl.style.display =\n",
       "          google.colab.kernel.accessAllowed ? 'block' : 'none';\n",
       "\n",
       "        async function convertToInteractive(key) {\n",
       "          const element = document.querySelector('#df-5c210d66-f8bb-4683-b500-d7f37ebf31c1');\n",
       "          const dataTable =\n",
       "            await google.colab.kernel.invokeFunction('convertToInteractive',\n",
       "                                                     [key], {});\n",
       "          if (!dataTable) return;\n",
       "\n",
       "          const docLinkHtml = 'Like what you see? Visit the ' +\n",
       "            '<a target=\"_blank\" href=https://colab.research.google.com/notebooks/data_table.ipynb>data table notebook</a>'\n",
       "            + ' to learn more about interactive tables.';\n",
       "          element.innerHTML = '';\n",
       "          dataTable['output_type'] = 'display_data';\n",
       "          await google.colab.output.renderOutput(dataTable, element);\n",
       "          const docLink = document.createElement('div');\n",
       "          docLink.innerHTML = docLinkHtml;\n",
       "          element.appendChild(docLink);\n",
       "        }\n",
       "      </script>\n",
       "    </div>\n",
       "  </div>\n",
       "  "
      ],
      "text/plain": [
       "          id  target\n",
       "0          0       1\n",
       "1          1       0\n",
       "2          2       1\n",
       "3          3       0\n",
       "4          4       0\n",
       "...      ...     ...\n",
       "46399  46399       1\n",
       "46400  46400       1\n",
       "46401  46401       1\n",
       "46402  46402       1\n",
       "46403  46403       1\n",
       "\n",
       "[46404 rows x 2 columns]"
      ]
     },
     "execution_count": 146,
     "metadata": {},
     "output_type": "execute_result"
    }
   ],
   "source": [
    "sample_submission = pd.read_csv(f'{DATA_PATH}sample_submission.csv')\n",
    "sample_submission['target'] = pred\n",
    "sample_submission"
   ]
  },
  {
   "cell_type": "code",
   "execution_count": null,
   "metadata": {
    "id": "PZjyduwpnuOH"
   },
   "outputs": [],
   "source": [
    "sample_submission.to_csv(f\"{DATA_PATH}prediction.csv\", index=False)"
   ]
  }
 ],
 "metadata": {
  "accelerator": "GPU",
  "colab": {
   "authorship_tag": "ABX9TyO1eD+bYBScuheb1lLpHVFy",
   "collapsed_sections": [],
   "machine_shape": "hm",
   "name": "dacon_jobcare_최종.ipynb",
   "provenance": []
  },
  "kernelspec": {
   "display_name": "Python 3 (ipykernel)",
   "language": "python",
   "name": "python3"
  },
  "language_info": {
   "codemirror_mode": {
    "name": "ipython",
    "version": 3
   },
   "file_extension": ".py",
   "mimetype": "text/x-python",
   "name": "python",
   "nbconvert_exporter": "python",
   "pygments_lexer": "ipython3",
   "version": "3.8.5"
  }
 },
 "nbformat": 4,
 "nbformat_minor": 1
}
